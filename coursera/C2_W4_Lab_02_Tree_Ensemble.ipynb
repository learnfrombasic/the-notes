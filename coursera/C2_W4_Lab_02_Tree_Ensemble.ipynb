{
 "cells": [
  {
   "cell_type": "markdown",
   "id": "7fb27b941602401d91542211134fc71a",
   "metadata": {},
   "source": [
    "# Ungraded Lab - Trees Ensemble\n",
    "\n",
    "In this notebook, you will:\n",
    "\n",
    " - Use Pandas to perform one-hot encoding of a dataset\n",
    " - Use scikit-learn to implement a Decision Tree, Random Forest and XGBoost models"
   ]
  },
  {
   "cell_type": "markdown",
   "id": "acae54e37e7d407bbb7b55eff062a284",
   "metadata": {},
   "source": [
    "Let's import the libraries we will use."
   ]
  },
  {
   "cell_type": "code",
   "execution_count": null,
   "id": "9a63283cbaf04dbcab1f6479b197f3a8",
   "metadata": {},
   "outputs": [],
   "source": [
    "import numpy as np\n",
    "import pandas as pd\n",
    "from sklearn.tree import DecisionTreeClassifier\n",
    "from sklearn.ensemble import RandomForestClassifier\n",
    "from sklearn.model_selection import train_test_split\n",
    "from sklearn.metrics import accuracy_score\n",
    "from xgboost import XGBClassifier\n",
    "import matplotlib.pyplot as plt\n",
    "\n",
    "plt.style.use(\"./deeplearning.mplstyle\")\n",
    "\n",
    "RANDOM_STATE = 55  ## We will pass it to every sklearn call so we ensure reproducibility"
   ]
  },
  {
   "cell_type": "markdown",
   "id": "8dd0d8092fe74a7c96281538738b07e2",
   "metadata": {},
   "source": [
    "# 1. Introduction"
   ]
  },
  {
   "cell_type": "markdown",
   "id": "72eea5119410473aa328ad9291626812",
   "metadata": {},
   "source": [
    "#### Datatset\n",
    "- This dataset is obtained from Kaggle: [Heart Failure Prediction Dataset](https://www.kaggle.com/datasets/fedesoriano/heart-failure-prediction)\n",
    "\n",
    "#### Context\n",
    "- Cardiovascular disease (CVDs) is the number one cause of death globally, taking an estimated 17.9 million lives each year, which accounts for 31% of all deaths worldwide. Four out of five CVD deaths are due to heart attacks and strokes, and one-third of these deaths occur prematurely in people under 70 years of age. Heart failure is a common event caused by CVDs.\n",
    "- People with cardiovascular disease or who are at high cardiovascular risk (due to the presence of one or more risk factors such as hypertension, diabetes, hyperlipidaemia or already established disease) need early detection and management.  \n",
    "- This dataset contains 11 features that can be used to predict possible heart disease.\n",
    "- Let's train a machine learning model to assist with diagnosing this disease.\n",
    "\n",
    "#### Attribute Information\n",
    "- Age: age of the patient [years]\n",
    "- Sex: sex of the patient [M: Male, F: Female]\n",
    "- ChestPainType: chest pain type [TA: Typical Angina, ATA: Atypical Angina, NAP: Non-Anginal Pain, ASY: Asymptomatic]\n",
    "- RestingBP: resting blood pressure [mm Hg]\n",
    "- Cholesterol: serum cholesterol [mm/dl]\n",
    "- FastingBS: fasting blood sugar [1: if FastingBS > 120 mg/dl, 0: otherwise]\n",
    "- RestingECG: resting electrocardiogram results [Normal: Normal, ST: having ST-T wave abnormality (T wave inversions and/or ST elevation or depression of > 0.05 mV), LVH: showing probable or definite left ventricular hypertrophy by Estes' criteria]\n",
    "- MaxHR: maximum heart rate achieved [Numeric value between 60 and 202]\n",
    "- ExerciseAngina: exercise-induced angina [Y: Yes, N: No]\n",
    "- Oldpeak: oldpeak = ST [Numeric value measured in depression]\n",
    "- ST_Slope: the slope of the peak exercise ST segment [Up: upsloping, Flat: flat, Down: downsloping]\n",
    "- HeartDisease: output class [1: heart disease, 0: Normal]"
   ]
  },
  {
   "cell_type": "markdown",
   "id": "8edb47106e1a46a883d545849b8ab81b",
   "metadata": {},
   "source": [
    "Let's now load the dataset. As we can see above, the variables:\n",
    "\n",
    "- Sex\n",
    "- ChestPainType\n",
    "- RestingECG\n",
    "- ExerciseAngina\n",
    "- ST_Slope\n",
    "\n",
    "Are *categorical*, so we must one-hot encode them. "
   ]
  },
  {
   "cell_type": "code",
   "execution_count": null,
   "id": "10185d26023b46108eb7d9f57d49d2b3",
   "metadata": {},
   "outputs": [],
   "source": [
    "# Load the dataset using pandas\n",
    "df = pd.read_csv(\"heart.csv\")"
   ]
  },
  {
   "cell_type": "code",
   "execution_count": null,
   "id": "8763a12b2bbd4a93a75aff182afb95dc",
   "metadata": {},
   "outputs": [],
   "source": [
    "df.head()"
   ]
  },
  {
   "cell_type": "markdown",
   "id": "7623eae2785240b9bd12b16a66d81610",
   "metadata": {},
   "source": [
    "We must perform some data engineering before working with the models. There are 5 categorical features, so we will use Pandas to one-hot encode them."
   ]
  },
  {
   "cell_type": "markdown",
   "id": "7cdc8c89c7104fffa095e18ddfef8986",
   "metadata": {},
   "source": [
    "## 2. One-hot encoding using Pandas\n",
    "\n",
    "First we will remove the binary variables, because one-hot encoding them would do nothing to them. To achieve this we will just count how many different values there are in each categorical variable and consider only the variables with 3 or more values."
   ]
  },
  {
   "cell_type": "code",
   "execution_count": null,
   "id": "b118ea5561624da68c537baed56e602f",
   "metadata": {},
   "outputs": [],
   "source": [
    "cat_variables = [\"Sex\", \"ChestPainType\", \"RestingECG\", \"ExerciseAngina\", \"ST_Slope\"]"
   ]
  },
  {
   "cell_type": "markdown",
   "id": "938c804e27f84196a10c8828c723f798",
   "metadata": {},
   "source": [
    "As a reminder, one-hot encoding aims to transform a categorical variable with `n` outputs into `n` binary variables.\n",
    "\n",
    "Pandas has a built-in method to one-hot encode variables, it is the function `pd.get_dummies`. There are several arguments to this function, but here we will use only a few. They are:\n",
    "\n",
    " - data: DataFrame to be used\n",
    " - prefix: A list with prefixes, so we know which value we are dealing with\n",
    " - columns: the list of columns that will be one-hot encoded. 'prefix' and 'columns' must have the same length.\n",
    " \n",
    "For more information, you can always type `help(pd.get_dummies)` to read the function's full documentation."
   ]
  },
  {
   "cell_type": "code",
   "execution_count": null,
   "id": "504fb2a444614c0babb325280ed9130a",
   "metadata": {},
   "outputs": [],
   "source": [
    "# This will replace the columns with the one-hot encoded ones and keep the columns outside 'columns' argument as it is.\n",
    "df = pd.get_dummies(data=df, prefix=cat_variables, columns=cat_variables)"
   ]
  },
  {
   "cell_type": "code",
   "execution_count": null,
   "id": "59bbdb311c014d738909a11f9e486628",
   "metadata": {},
   "outputs": [],
   "source": [
    "df.head()"
   ]
  },
  {
   "cell_type": "markdown",
   "id": "b43b363d81ae4b689946ece5c682cd59",
   "metadata": {},
   "source": [
    "Let's choose the variables that will be the input features of the model.\n",
    "- The target is `HeartDisease`.\n",
    "- All other variables are features that can potentially be used to predict the target, `HeartDisease`."
   ]
  },
  {
   "cell_type": "code",
   "execution_count": null,
   "id": "8a65eabff63a45729fe45fb5ade58bdc",
   "metadata": {},
   "outputs": [],
   "source": [
    "features = [\n",
    "    x for x in df.columns if x not in \"HeartDisease\"\n",
    "]  ## Removing our target variable"
   ]
  },
  {
   "cell_type": "markdown",
   "id": "c3933fab20d04ec698c2621248eb3be0",
   "metadata": {},
   "source": [
    "We started with 11 features.  Let's see how many feature variables we have after one-hot encoding."
   ]
  },
  {
   "cell_type": "code",
   "execution_count": null,
   "id": "4dd4641cc4064e0191573fe9c69df29b",
   "metadata": {},
   "outputs": [],
   "source": [
    "print(len(features))"
   ]
  },
  {
   "cell_type": "markdown",
   "id": "8309879909854d7188b41380fd92a7c3",
   "metadata": {},
   "source": [
    "# 3. Splitting the Dataset\n",
    "\n",
    "In this section, we will split our dataset into train and test datasets. We will use the function `train_test_split` from Scikit-learn. Let's just check its arguments."
   ]
  },
  {
   "cell_type": "code",
   "execution_count": null,
   "id": "3ed186c9a28b402fb0bc4494df01f08d",
   "metadata": {},
   "outputs": [],
   "source": [
    "help(train_test_split)"
   ]
  },
  {
   "cell_type": "code",
   "execution_count": null,
   "id": "cb1e1581032b452c9409d6c6813c49d1",
   "metadata": {},
   "outputs": [],
   "source": [
    "X_train, X_val, y_train, y_val = train_test_split(\n",
    "    df[features], df[\"HeartDisease\"], train_size=0.8, random_state=RANDOM_STATE\n",
    ")\n",
    "\n",
    "# We will keep the shuffle = True since our dataset has not any time dependency."
   ]
  },
  {
   "cell_type": "code",
   "execution_count": null,
   "id": "379cbbc1e968416e875cc15c1202d7eb",
   "metadata": {},
   "outputs": [],
   "source": [
    "print(f\"train samples: {len(X_train)}\")\n",
    "print(f\"validation samples: {len(X_val)}\")\n",
    "print(f\"target proportion: {sum(y_train) / len(y_train):.4f}\")"
   ]
  },
  {
   "cell_type": "markdown",
   "id": "277c27b1587741f2af2001be3712ef0d",
   "metadata": {},
   "source": [
    "# 4. Building the Models\n",
    "\n",
    "## 4.1 Decision Tree\n",
    "\n",
    "In this section, let's work with the Decision Tree we previously learned, but now using the [Scikit-learn implementation](https://scikit-learn.org/stable/modules/generated/sklearn.tree.DecisionTreeClassifier.html). \n",
    "\n",
    "There are several hyperparameters in the Decision Tree object from Scikit-learn. We will use only some of them and also we will not perform feature selection nor hyperparameter tuning in this lab (but you are encouraged to do so and compare the results 😄 )\n",
    "\n",
    "The hyperparameters we will use and investigate here are:\n",
    "\n",
    " - min_samples_split: The minimum number of samples required to split an internal node. \n",
    "   - Choosing a higher min_samples_split can reduce the number of splits and may help to reduce overfitting.\n",
    " - max_depth: The maximum depth of the tree. \n",
    "   - Choosing a lower max_depth can reduce the number of splits and may help to reduce overfitting."
   ]
  },
  {
   "cell_type": "code",
   "execution_count": null,
   "id": "db7b79bc585a40fcaf58bf750017e135",
   "metadata": {},
   "outputs": [],
   "source": [
    "min_samples_split_list = [\n",
    "    2,\n",
    "    10,\n",
    "    30,\n",
    "    50,\n",
    "    100,\n",
    "    200,\n",
    "    300,\n",
    "    700,\n",
    "]  ## If the number is an integer, then it is the actual quantity of samples,\n",
    "max_depth_list = [\n",
    "    1,\n",
    "    2,\n",
    "    3,\n",
    "    4,\n",
    "    8,\n",
    "    16,\n",
    "    32,\n",
    "    64,\n",
    "    None,\n",
    "]  # None means that there is no depth limit."
   ]
  },
  {
   "cell_type": "code",
   "execution_count": null,
   "id": "916684f9a58a4a2aa5f864670399430d",
   "metadata": {},
   "outputs": [],
   "source": [
    "accuracy_list_train = []\n",
    "accuracy_list_val = []\n",
    "for min_samples_split in min_samples_split_list:\n",
    "    # You can fit the model at the same time you define it, because the fit function returns the fitted estimator.\n",
    "    model = DecisionTreeClassifier(\n",
    "        min_samples_split=min_samples_split, random_state=RANDOM_STATE\n",
    "    ).fit(X_train, y_train)\n",
    "    predictions_train = model.predict(\n",
    "        X_train\n",
    "    )  ## The predicted values for the train dataset\n",
    "    predictions_val = model.predict(X_val)  ## The predicted values for the test dataset\n",
    "    accuracy_train = accuracy_score(predictions_train, y_train)\n",
    "    accuracy_val = accuracy_score(predictions_val, y_val)\n",
    "    accuracy_list_train.append(accuracy_train)\n",
    "    accuracy_list_val.append(accuracy_val)\n",
    "\n",
    "plt.title(\"Train x Validation metrics\")\n",
    "plt.xlabel(\"min_samples_split\")\n",
    "plt.ylabel(\"accuracy\")\n",
    "plt.xticks(ticks=range(len(min_samples_split_list)), labels=min_samples_split_list)\n",
    "plt.plot(accuracy_list_train)\n",
    "plt.plot(accuracy_list_val)\n",
    "plt.legend([\"Train\", \"Validation\"])"
   ]
  },
  {
   "cell_type": "markdown",
   "id": "1671c31a24314836a5b85d7ef7fbf015",
   "metadata": {},
   "source": [
    "Note how increasing the the number of `min_samples_split` reduces overfitting.\n",
    "- Increasing `min_samples_split` from 10 to 30, and from 30 to 50, even though it does not improve the validation accuracy, it brings the training accuracy closer to it, showing a reduction in overfitting.\n",
    "\n",
    "Let's do the same experiment with `max_depth`."
   ]
  },
  {
   "cell_type": "code",
   "execution_count": null,
   "id": "33b0902fd34d4ace834912fa1002cf8e",
   "metadata": {},
   "outputs": [],
   "source": [
    "accuracy_list_train = []\n",
    "accuracy_list_val = []\n",
    "for max_depth in max_depth_list:\n",
    "    # You can fit the model at the same time you define it, because the fit function returns the fitted estimator.\n",
    "    model = DecisionTreeClassifier(max_depth=max_depth, random_state=RANDOM_STATE).fit(\n",
    "        X_train, y_train\n",
    "    )\n",
    "    predictions_train = model.predict(\n",
    "        X_train\n",
    "    )  ## The predicted values for the train dataset\n",
    "    predictions_val = model.predict(X_val)  ## The predicted values for the test dataset\n",
    "    accuracy_train = accuracy_score(predictions_train, y_train)\n",
    "    accuracy_val = accuracy_score(predictions_val, y_val)\n",
    "    accuracy_list_train.append(accuracy_train)\n",
    "    accuracy_list_val.append(accuracy_val)\n",
    "\n",
    "plt.title(\"Train x Validation metrics\")\n",
    "plt.xlabel(\"max_depth\")\n",
    "plt.ylabel(\"accuracy\")\n",
    "plt.xticks(ticks=range(len(max_depth_list)), labels=max_depth_list)\n",
    "plt.plot(accuracy_list_train)\n",
    "plt.plot(accuracy_list_val)\n",
    "plt.legend([\"Train\", \"Validation\"])"
   ]
  },
  {
   "cell_type": "markdown",
   "id": "f6fa52606d8c4a75a9b52967216f8f3f",
   "metadata": {},
   "source": [
    "We can see that in general, reducing `max_depth` can help to reduce overfitting.\n",
    "- Reducing `max_depth` from 8 to 4 increases validation accuracy closer to training accuracy, while significantly reducing training accuracy.\n",
    "- The validation accuracy reaches the highest at tree_depth=4. \n",
    "- When the `max_depth` is smaller than 3, both training and validation accuracy decreases.  The tree cannot make enough splits to distinguish positives from negatives (the model is underfitting the training set). \n",
    "- When the `max_depth` is too high ( >= 5), validation accuracy decreases while training accuracy increases, indicating that the model is overfitting to the training set.\n",
    "\n",
    "So we can choose the best values for these two hyper-parameters for our model to be:\n",
    "- `max_depth = 4`\n",
    "- `min_samples_split = 50` "
   ]
  },
  {
   "cell_type": "code",
   "execution_count": null,
   "id": "f5a1fa73e5044315a093ec459c9be902",
   "metadata": {},
   "outputs": [],
   "source": [
    "decision_tree_model = DecisionTreeClassifier(\n",
    "    min_samples_split=50, max_depth=3, random_state=RANDOM_STATE\n",
    ").fit(X_train, y_train)"
   ]
  },
  {
   "cell_type": "code",
   "execution_count": null,
   "id": "cdf66aed5cc84ca1b48e60bad68798a8",
   "metadata": {},
   "outputs": [],
   "source": [
    "print(\n",
    "    f\"Metrics train:\\n\\tAccuracy score: {accuracy_score(decision_tree_model.predict(X_train), y_train):.4f}\"\n",
    ")\n",
    "print(\n",
    "    f\"Metrics validation:\\n\\tAccuracy score: {accuracy_score(decision_tree_model.predict(X_val), y_val):.4f}\"\n",
    ")"
   ]
  },
  {
   "cell_type": "markdown",
   "id": "28d3efd5258a48a79c179ea5c6759f01",
   "metadata": {},
   "source": [
    "No sign of overfitting, even though the metrics are not that good."
   ]
  },
  {
   "cell_type": "markdown",
   "id": "3f9bc0b9dd2c44919cc8dcca39b469f8",
   "metadata": {},
   "source": [
    "## 4.2 Random Forest\n",
    "\n",
    "Now let's try the Random Forest algorithm also, using the Scikit-learn implementation. \n",
    "- All of the hyperparameters found in the decision tree model will also exist in this algorithm, since a random forest is an ensemble of many Decision Trees.\n",
    "- One additional hyperparameter for Random Forest is called `n_estimators` which is the number of Decision Trees that make up the Random Forest. \n",
    "\n",
    "Remember that for a Random Forest, we randomly choose a subset of the features AND randomly choose a subset of the training examples to train each individual tree.\n",
    "- Following the lectures, if $n$ is the number of features, we will randomly select $\\sqrt{n}$ of these features to train each individual tree. \n",
    "- Note that you can modify this by setting the `max_features` parameter.\n",
    "\n",
    "You can also speed up your training jobs with another parameter, `n_jobs`. \n",
    "- Since the fitting of each tree is independent of each other, it is possible fit more than one tree in parallel. \n",
    "- So setting `n_jobs` higher will increase how many CPU cores it will use. Note that the numbers very close to the maximum cores of your CPU may impact on the overall performance of your PC and even lead to freezes. \n",
    "- Changing this parameter does not impact on the final result but can reduce the training time.\n",
    "\n",
    "We will run the same script again, but with another parameter, `n_estimators`, where we will choose between 10, 50, and 100. The default is 100."
   ]
  },
  {
   "cell_type": "code",
   "execution_count": null,
   "id": "0e382214b5f147d187d36a2058b9c724",
   "metadata": {},
   "outputs": [],
   "source": [
    "min_samples_split_list = [\n",
    "    2,\n",
    "    10,\n",
    "    30,\n",
    "    50,\n",
    "    100,\n",
    "    200,\n",
    "    300,\n",
    "    700,\n",
    "]  ## If the number is an integer, then it is the actual quantity of samples,\n",
    "## If it is a float, then it is the percentage of the dataset\n",
    "max_depth_list = [2, 4, 8, 16, 32, 64, None]\n",
    "n_estimators_list = [10, 50, 100, 500]"
   ]
  },
  {
   "cell_type": "code",
   "execution_count": null,
   "id": "5b09d5ef5b5e4bb6ab9b829b10b6a29f",
   "metadata": {},
   "outputs": [],
   "source": [
    "accuracy_list_train = []\n",
    "accuracy_list_val = []\n",
    "for min_samples_split in min_samples_split_list:\n",
    "    # You can fit the model at the same time you define it, because the fit function returns the fitted estimator.\n",
    "    model = RandomForestClassifier(\n",
    "        min_samples_split=min_samples_split, random_state=RANDOM_STATE\n",
    "    ).fit(X_train, y_train)\n",
    "    predictions_train = model.predict(\n",
    "        X_train\n",
    "    )  ## The predicted values for the train dataset\n",
    "    predictions_val = model.predict(X_val)  ## The predicted values for the test dataset\n",
    "    accuracy_train = accuracy_score(predictions_train, y_train)\n",
    "    accuracy_val = accuracy_score(predictions_val, y_val)\n",
    "    accuracy_list_train.append(accuracy_train)\n",
    "    accuracy_list_val.append(accuracy_val)\n",
    "\n",
    "plt.title(\"Train x Validation metrics\")\n",
    "plt.xlabel(\"min_samples_split\")\n",
    "plt.ylabel(\"accuracy\")\n",
    "plt.xticks(ticks=range(len(min_samples_split_list)), labels=min_samples_split_list)\n",
    "plt.plot(accuracy_list_train)\n",
    "plt.plot(accuracy_list_val)\n",
    "plt.legend([\"Train\", \"Validation\"])"
   ]
  },
  {
   "cell_type": "markdown",
   "id": "a50416e276a0479cbe66534ed1713a40",
   "metadata": {},
   "source": [
    "Notice that, even though the validation accuraty reaches is the same both at `min_samples_split = 2` and `min_samples_split = 10`, in the latter the difference in training and validation set reduces, showing less overfitting."
   ]
  },
  {
   "cell_type": "code",
   "execution_count": null,
   "id": "46a27a456b804aa2a380d5edf15a5daf",
   "metadata": {},
   "outputs": [],
   "source": [
    "accuracy_list_train = []\n",
    "accuracy_list_val = []\n",
    "for max_depth in max_depth_list:\n",
    "    # You can fit the model at the same time you define it, because the fit function returns the fitted estimator.\n",
    "    model = RandomForestClassifier(max_depth=max_depth, random_state=RANDOM_STATE).fit(\n",
    "        X_train, y_train\n",
    "    )\n",
    "    predictions_train = model.predict(\n",
    "        X_train\n",
    "    )  ## The predicted values for the train dataset\n",
    "    predictions_val = model.predict(X_val)  ## The predicted values for the test dataset\n",
    "    accuracy_train = accuracy_score(predictions_train, y_train)\n",
    "    accuracy_val = accuracy_score(predictions_val, y_val)\n",
    "    accuracy_list_train.append(accuracy_train)\n",
    "    accuracy_list_val.append(accuracy_val)\n",
    "\n",
    "plt.title(\"Train x Validation metrics\")\n",
    "plt.xlabel(\"max_depth\")\n",
    "plt.ylabel(\"accuracy\")\n",
    "plt.xticks(ticks=range(len(max_depth_list)), labels=max_depth_list)\n",
    "plt.plot(accuracy_list_train)\n",
    "plt.plot(accuracy_list_val)\n",
    "plt.legend([\"Train\", \"Validation\"])"
   ]
  },
  {
   "cell_type": "code",
   "execution_count": null,
   "id": "1944c39560714e6e80c856f20744a8e5",
   "metadata": {},
   "outputs": [],
   "source": [
    "accuracy_list_train = []\n",
    "accuracy_list_val = []\n",
    "for n_estimators in n_estimators_list:\n",
    "    # You can fit the model at the same time you define it, because the fit function returns the fitted estimator.\n",
    "    model = RandomForestClassifier(\n",
    "        n_estimators=n_estimators, random_state=RANDOM_STATE\n",
    "    ).fit(X_train, y_train)\n",
    "    predictions_train = model.predict(\n",
    "        X_train\n",
    "    )  ## The predicted values for the train dataset\n",
    "    predictions_val = model.predict(X_val)  ## The predicted values for the test dataset\n",
    "    accuracy_train = accuracy_score(predictions_train, y_train)\n",
    "    accuracy_val = accuracy_score(predictions_val, y_val)\n",
    "    accuracy_list_train.append(accuracy_train)\n",
    "    accuracy_list_val.append(accuracy_val)\n",
    "\n",
    "plt.title(\"Train x Validation metrics\")\n",
    "plt.xlabel(\"n_estimators\")\n",
    "plt.ylabel(\"accuracy\")\n",
    "plt.xticks(ticks=range(len(n_estimators_list)), labels=n_estimators_list)\n",
    "plt.plot(accuracy_list_train)\n",
    "plt.plot(accuracy_list_val)\n",
    "plt.legend([\"Train\", \"Validation\"])"
   ]
  },
  {
   "cell_type": "markdown",
   "id": "d6ca27006b894b04b6fc8b79396e2797",
   "metadata": {},
   "source": [
    "Let's then fit a random forest with the following parameters:\n",
    "\n",
    " - max_depth: 16\n",
    " - min_samples_split: 10\n",
    " - n_estimators: 100"
   ]
  },
  {
   "cell_type": "code",
   "execution_count": null,
   "id": "f61877af4e7f4313ad8234302950b331",
   "metadata": {},
   "outputs": [],
   "source": [
    "random_forest_model = RandomForestClassifier(\n",
    "    n_estimators=100, max_depth=16, min_samples_split=10\n",
    ").fit(X_train, y_train)"
   ]
  },
  {
   "cell_type": "code",
   "execution_count": null,
   "id": "84d5ab97d17b4c38ab41a2b065bbd0c0",
   "metadata": {},
   "outputs": [],
   "source": [
    "print(\n",
    "    f\"Metrics train:\\n\\tAccuracy score: {accuracy_score(random_forest_model.predict(X_train), y_train):.4f}\\nMetrics test:\\n\\tAccuracy score: {accuracy_score(random_forest_model.predict(X_val), y_val):.4f}\"\n",
    ")"
   ]
  },
  {
   "cell_type": "markdown",
   "id": "35ffc1ce1c7b4df9ace1bc936b8b1dc2",
   "metadata": {},
   "source": [
    "Note that we are searching for the best value one hyperparameter while leaving the other hyperparameters at their default values.\n",
    "- Ideally, we would want to check every combination of values for every hyperparameter that we are tuning.\n",
    "- If we have 3 hyperparameters, and each hyperparameter has 4 values to try out, we should have a total of 4 x 4 x 4 = 64 combinations to try.\n",
    "- When we only modify one hyperparameter while leaving the rest as their default value, we are trying 4 + 4 + 4 = 12 results. \n",
    "- To try out all combinations, we can use a sklearn implementation called GridSearchCV. GridSearchCV has a refit parameter that will automatically refit a model on the best combination so we will not need to program it explicitly. For more on GridSearchCV, please refer to its [documentation](https://scikit-learn.org/stable/modules/generated/sklearn.model_selection.GridSearchCV.html)."
   ]
  },
  {
   "cell_type": "markdown",
   "id": "76127f4a2f6a44fba749ea7800e59d51",
   "metadata": {},
   "source": [
    "## 4.3 XGBoost\n",
    "\n",
    "Next is the Gradient Boosting model, called XGBoost. The boosting methods train several trees, but instead of them being uncorrelated to each other, now the trees are fit one after the other in order to minimize the error. \n",
    "\n",
    "The model has the same parameters as a decision tree, plus the learning rate.\n",
    "- The learning rate is the size of the step on the Gradient Descent method that the XGBoost uses internally to minimize the error on each train step.\n",
    "\n",
    "One interesting thing about the XGBoost is that during fitting, it can take in an evaluation dataset of the form `(X_val,y_val)`.\n",
    "- On each iteration, it measures the cost (or evaluation metric) on the evaluation datasets.\n",
    "- Once the cost (or metric) stops decreasing for a number of rounds (called early_stopping_rounds), the training will stop. \n",
    "- More iterations lead to more estimators, and more estimators can result in overfitting.  \n",
    "- By stopping once the validation metric no longer improves, we can limit the number of estimators created, and reduce overfitting.\n",
    "\n",
    "First, let's define a subset of our training set (we should not use the test set here)."
   ]
  },
  {
   "cell_type": "code",
   "execution_count": null,
   "id": "903197826d2e44dfa0208e8f97c69327",
   "metadata": {},
   "outputs": [],
   "source": [
    "n = int(len(X_train) * 0.8)  ## Let's use 80% to train and 20% to eval"
   ]
  },
  {
   "cell_type": "code",
   "execution_count": null,
   "id": "015066fb96f841e5be1e03a9eaadc3b6",
   "metadata": {},
   "outputs": [],
   "source": [
    "X_train_fit, X_train_eval, y_train_fit, y_train_eval = (\n",
    "    X_train[:n],\n",
    "    X_train[n:],\n",
    "    y_train[:n],\n",
    "    y_train[n:],\n",
    ")"
   ]
  },
  {
   "cell_type": "markdown",
   "id": "81ff116bae5b45f6b6dae177083008cf",
   "metadata": {},
   "source": [
    "We can then set a large number of estimators, because we can stop if the cost function stops decreasing."
   ]
  },
  {
   "cell_type": "markdown",
   "id": "9075f00cfa8d463f84130041b1e44ca7",
   "metadata": {},
   "source": [
    "Note some of the `.fit()` parameters:\n",
    "- `eval_set = [(X_train_eval,y_train_eval)]`:Here we must pass a list to the eval_set, because you can have several different tuples ov eval sets. \n",
    "- `early_stopping_rounds`: This parameter helps to stop the model training if its evaluation metric is no longer improving on the validation set. It's set to 10.\n",
    "  - The model keeps track of the round with the best performance (lowest evaluation metric).  For example, let's say round 16 has the lowest evaluation metric so far.\n",
    "  - Each successive round's evaluation metric is compared to the best metric.  If the model goes 10 rounds where none have a better metric than the best one, then the model stops training.\n",
    "  - The model is returned at its last state when training terminated, not its state during the best round.  For example, if the model stops at round 26, but the best round was 16, the model's training state at round 26 is returned, not round 16.\n",
    "  - Note that this is different from returning the model's \"best\" state (from when the evaluation metric was the lowest)."
   ]
  },
  {
   "cell_type": "code",
   "execution_count": null,
   "id": "15abde8c5d2e435093904b13db685a53",
   "metadata": {},
   "outputs": [],
   "source": [
    "xgb_model = XGBClassifier(\n",
    "    n_estimators=500, learning_rate=0.1, verbosity=1, random_state=RANDOM_STATE\n",
    ")\n",
    "xgb_model.fit(\n",
    "    X_train_fit,\n",
    "    y_train_fit,\n",
    "    eval_set=[(X_train_eval, y_train_eval)],\n",
    "    early_stopping_rounds=10,\n",
    ")"
   ]
  },
  {
   "cell_type": "markdown",
   "id": "5e20a2a0e21149b5b06860e930401eb5",
   "metadata": {},
   "source": [
    "Even though we initialized the model to allow up to 500 estimators, the algorithm only fit 26 estimators (over 26 rounds of training).\n",
    "\n",
    "To see why, let's look for the round of training that had the best performance (lowest evaluation metric).  You can either view the validation log loss metrics that were output above, or view the model's `.best_iteration` attribute:"
   ]
  },
  {
   "cell_type": "code",
   "execution_count": null,
   "id": "72c31777baf4441b988909d29205560c",
   "metadata": {},
   "outputs": [],
   "source": [
    "xgb_model.best_iteration"
   ]
  },
  {
   "cell_type": "markdown",
   "id": "5734001bcbac423990a4356310d8df13",
   "metadata": {},
   "source": [
    "The best round of training was round 16, with a log loss of 4.3948.  \n",
    "- For 10 rounds of training after that (from round 17 to 26), the log loss was higher than this.\n",
    "- Since we set `early_stopping_rounds` to 10, then by the 10th round where the log loss doesn't improve upon the best one, training stops.\n",
    "- You can try out different values of `early_stopping_rounds` to verify this.  If you set it to 20, for instance, the model stops training at round 36 (16 + 20)."
   ]
  },
  {
   "cell_type": "code",
   "execution_count": null,
   "id": "27531e93873647d9a5bf1112f2051a59",
   "metadata": {},
   "outputs": [],
   "source": [
    "print(\n",
    "    f\"Metrics train:\\n\\tAccuracy score: {accuracy_score(xgb_model.predict(X_train), y_train):.4f}\\nMetrics test:\\n\\tAccuracy score: {accuracy_score(xgb_model.predict(X_val), y_val):.4f}\"\n",
    ")"
   ]
  },
  {
   "cell_type": "markdown",
   "id": "f3041e9ffdb2416ea2009d3a6a4c5716",
   "metadata": {},
   "source": [
    "In this example, both Random Forest and XGBoost had similar performance (test accuracy).  \n",
    "\n",
    "Congratulations, you have learned how to use Decision Tree, Random Forest from the scikit-learn library and XGBoost!"
   ]
  }
 ],
 "metadata": {
  "kernelspec": {
   "display_name": "Python 3",
   "language": "python",
   "name": "python3"
  },
  "language_info": {
   "codemirror_mode": {
    "name": "ipython",
    "version": 3
   },
   "file_extension": ".py",
   "mimetype": "text/x-python",
   "name": "python",
   "nbconvert_exporter": "python",
   "pygments_lexer": "ipython3",
   "version": "3.7.6"
  },
  "vscode": {
   "interpreter": {
    "hash": "56d44d6a8424451b5ce45d1ae0b0b7865dc60710e7f74571dd51dd80d7829ee9"
   }
  }
 },
 "nbformat": 4,
 "nbformat_minor": 5
}
