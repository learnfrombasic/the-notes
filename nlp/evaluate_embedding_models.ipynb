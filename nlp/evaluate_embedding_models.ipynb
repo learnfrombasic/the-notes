{
 "cells": [
  {
   "cell_type": "code",
   "execution_count": null,
   "id": "4151b771",
   "metadata": {},
   "outputs": [],
   "source": [
    "import os\n",
    "import warnings\n",
    "from pathlib import Path\n",
    "\n",
    "import torch\n",
    "import tiktoken\n",
    "from pyvi.ViTokenizer import tokenize\n",
    "from datasets import load_dataset\n",
    "from sentence_transformers import SentenceTransformer\n",
    "from sentence_transformers.losses import CoSENTLoss\n",
    "from sentence_transformers.evaluation import (\n",
    "    EmbeddingSimilarityEvaluator,\n",
    "    SimilarityFunction,\n",
    ")\n",
    "\n",
    "\n",
    "warnings.filterwarnings(\"ignore\")\n",
    "\n",
    "DEVICE = \"cuda\" if torch.cuda.is_available() else \"cpu\""
   ]
  },
  {
   "cell_type": "code",
   "execution_count": 4,
   "id": "a54f23d2",
   "metadata": {},
   "outputs": [],
   "source": [
    "MODEL_IDS = {\n",
    "    \"vn_sbert\": \"keepitreal/vietnamese-sbert\",\n",
    "    \"dvt\": \"dangvantuan/vietnamese-embedding\",\n",
    "    \"aivn\": \"AITeamVN/Vietnamese_Embedding\",\n",
    "}"
   ]
  },
  {
   "cell_type": "markdown",
   "id": "21b353d6",
   "metadata": {},
   "source": [
    "## Dataset"
   ]
  },
  {
   "cell_type": "code",
   "execution_count": 9,
   "id": "2077e47d",
   "metadata": {},
   "outputs": [
    {
     "name": "stderr",
     "output_type": "stream",
     "text": [
      "Generating train split: 8628 examples [00:00, 20944.50 examples/s]\n",
      "Filter: 100%|██████████| 8628/8628 [00:00<00:00, 33459.13 examples/s]\n",
      "Filter: 100%|██████████| 8628/8628 [00:00<00:00, 95861.68 examples/s]\n",
      "Filter: 100%|██████████| 8628/8628 [00:00<00:00, 82680.94 examples/s]\n"
     ]
    }
   ],
   "source": [
    "vi_sts = load_dataset(\"doanhieung/vi-stsbenchmark\")[\"train\"]\n",
    "df_train = vi_sts.filter(lambda example: example[\"split\"] == \"train\")\n",
    "df_dev = vi_sts.filter(lambda example: example[\"split\"] == \"dev\")\n",
    "df_test = vi_sts.filter(lambda example: example[\"split\"] == \"test\")"
   ]
  },
  {
   "cell_type": "code",
   "execution_count": 28,
   "id": "f4c64945",
   "metadata": {},
   "outputs": [
    {
     "data": {
      "text/plain": [
       "Dataset({\n",
       "    features: ['split', 'genre', 'dataset', 'year', 'sid', 'score', 'sentence1', 'sentence2'],\n",
       "    num_rows: 5749\n",
       "})"
      ]
     },
     "execution_count": 28,
     "metadata": {},
     "output_type": "execute_result"
    }
   ],
   "source": [
    "df_train"
   ]
  },
  {
   "cell_type": "code",
   "execution_count": 11,
   "id": "42a8cfee",
   "metadata": {},
   "outputs": [],
   "source": [
    "ds_train = df_train.select_columns([\"sentence1\", \"sentence2\", \"score\"])\n",
    "ds_dev = df_dev.select_columns([\"sentence1\", \"sentence2\", \"score\"])\n",
    "ds_test = df_test.select_columns([\"sentence1\", \"sentence2\", \"score\"])"
   ]
  },
  {
   "cell_type": "code",
   "execution_count": 21,
   "id": "fa79b9b8",
   "metadata": {},
   "outputs": [
    {
     "data": {
      "text/plain": [
       "{'sentence1': 'Một chiếc máy bay đang cất cánh.',\n",
       " 'sentence2': 'Một chiếc máy bay đang cất cánh.',\n",
       " 'score': 5.0}"
      ]
     },
     "execution_count": 21,
     "metadata": {},
     "output_type": "execute_result"
    }
   ],
   "source": [
    "ds_train[0]"
   ]
  },
  {
   "cell_type": "code",
   "execution_count": null,
   "id": "afe4b456",
   "metadata": {},
   "outputs": [],
   "source": []
  },
  {
   "cell_type": "markdown",
   "id": "69ee1a62",
   "metadata": {},
   "source": [
    "## Models"
   ]
  },
  {
   "cell_type": "code",
   "execution_count": 14,
   "id": "fa0481ec",
   "metadata": {},
   "outputs": [],
   "source": [
    "sbert_model = SentenceTransformer(MODEL_IDS[\"vn_sbert\"])\n",
    "dvt_model = SentenceTransformer(MODEL_IDS[\"dvt\"])\n",
    "aivn_model = SentenceTransformer(MODEL_IDS[\"aivn\"])"
   ]
  },
  {
   "cell_type": "code",
   "execution_count": 17,
   "id": "5a5a9912",
   "metadata": {},
   "outputs": [
    {
     "data": {
      "text/plain": [
       "SentenceTransformer(\n",
       "  (0): Transformer({'max_seq_length': 256, 'do_lower_case': False, 'architecture': 'RobertaModel'})\n",
       "  (1): Pooling({'word_embedding_dimension': 768, 'pooling_mode_cls_token': False, 'pooling_mode_mean_tokens': True, 'pooling_mode_max_tokens': False, 'pooling_mode_mean_sqrt_len_tokens': False, 'pooling_mode_weightedmean_tokens': False, 'pooling_mode_lasttoken': False, 'include_prompt': True})\n",
       ")"
      ]
     },
     "execution_count": 17,
     "metadata": {},
     "output_type": "execute_result"
    }
   ],
   "source": [
    "sbert_model"
   ]
  },
  {
   "cell_type": "code",
   "execution_count": 18,
   "id": "9f0146b7",
   "metadata": {},
   "outputs": [
    {
     "data": {
      "text/plain": [
       "SentenceTransformer(\n",
       "  (0): Transformer({'max_seq_length': 512, 'do_lower_case': False, 'architecture': 'RobertaModel'})\n",
       "  (1): Pooling({'word_embedding_dimension': 768, 'pooling_mode_cls_token': False, 'pooling_mode_mean_tokens': True, 'pooling_mode_max_tokens': False, 'pooling_mode_mean_sqrt_len_tokens': False, 'pooling_mode_weightedmean_tokens': False, 'pooling_mode_lasttoken': False, 'include_prompt': True})\n",
       ")"
      ]
     },
     "execution_count": 18,
     "metadata": {},
     "output_type": "execute_result"
    }
   ],
   "source": [
    "dvt_model"
   ]
  },
  {
   "cell_type": "code",
   "execution_count": 19,
   "id": "cbf0c6ba",
   "metadata": {},
   "outputs": [
    {
     "data": {
      "text/plain": [
       "SentenceTransformer(\n",
       "  (0): Transformer({'max_seq_length': 8192, 'do_lower_case': False, 'architecture': 'XLMRobertaModel'})\n",
       "  (1): Pooling({'word_embedding_dimension': 1024, 'pooling_mode_cls_token': True, 'pooling_mode_mean_tokens': False, 'pooling_mode_max_tokens': False, 'pooling_mode_mean_sqrt_len_tokens': False, 'pooling_mode_weightedmean_tokens': False, 'pooling_mode_lasttoken': False, 'include_prompt': True})\n",
       "  (2): Normalize()\n",
       ")"
      ]
     },
     "execution_count": 19,
     "metadata": {},
     "output_type": "execute_result"
    }
   ],
   "source": [
    "aivn_model"
   ]
  },
  {
   "cell_type": "markdown",
   "id": "aa67aacf",
   "metadata": {},
   "source": [
    "## Evaluations\n",
    "\n",
    "\n",
    "| Model                                | Pearson (cosine) | Spearman (cosine) | Time (s) |\n",
    "| ------------------------------------ | ---------------- | ----------------- | -------- |\n",
    "| **keepitreal/vietnamese-sbert**      | 0.774            | 0.767             | 16.6     |\n",
    "| **dangvantuan/vietnamese-embedding** | **0.797**        | **0.793**         | 12.9     |\n",
    "| **AITeamVN/Vietnamese\\_Embedding**   | 0.781            | 0.780             | 33.1     |"
   ]
  },
  {
   "cell_type": "code",
   "execution_count": null,
   "id": "443b2278",
   "metadata": {},
   "outputs": [],
   "source": [
    "# sbert_loss = CoSENTLoss(sbert_model)\n",
    "# dvt_loss = CoSENTLoss(dvt_model)\n",
    "# aivn_loss = CoSENTLoss(aivn_model)"
   ]
  },
  {
   "cell_type": "code",
   "execution_count": 23,
   "id": "988349d6",
   "metadata": {},
   "outputs": [],
   "source": [
    "test_evaluator = EmbeddingSimilarityEvaluator(\n",
    "    sentences1=ds_test[\"sentence1\"],\n",
    "    sentences2=ds_test[\"sentence2\"],\n",
    "    scores=ds_test[\"score\"],\n",
    "    main_similarity=SimilarityFunction.COSINE,\n",
    "    name=\"vi-sts-bench\",\n",
    ")"
   ]
  },
  {
   "cell_type": "code",
   "execution_count": 25,
   "id": "c19f281c",
   "metadata": {},
   "outputs": [
    {
     "data": {
      "text/plain": [
       "{'vi-sts-bench_pearson_cosine': 0.7741504472811993,\n",
       " 'vi-sts-bench_spearman_cosine': 0.7672006662775815}"
      ]
     },
     "execution_count": 25,
     "metadata": {},
     "output_type": "execute_result"
    }
   ],
   "source": [
    "test_evaluator(sbert_model)"
   ]
  },
  {
   "cell_type": "code",
   "execution_count": 26,
   "id": "3c9a5a37",
   "metadata": {},
   "outputs": [
    {
     "data": {
      "text/plain": [
       "{'vi-sts-bench_pearson_cosine': 0.7966283070690964,\n",
       " 'vi-sts-bench_spearman_cosine': 0.7927477894929178}"
      ]
     },
     "execution_count": 26,
     "metadata": {},
     "output_type": "execute_result"
    }
   ],
   "source": [
    "test_evaluator(dvt_model)"
   ]
  },
  {
   "cell_type": "code",
   "execution_count": 27,
   "id": "8adb93bf",
   "metadata": {},
   "outputs": [
    {
     "data": {
      "text/plain": [
       "{'vi-sts-bench_pearson_cosine': 0.7809618671297143,\n",
       " 'vi-sts-bench_spearman_cosine': 0.7801241540920268}"
      ]
     },
     "execution_count": 27,
     "metadata": {},
     "output_type": "execute_result"
    }
   ],
   "source": [
    "test_evaluator(aivn_model)"
   ]
  }
 ],
 "metadata": {
  "kernelspec": {
   "display_name": ".venv",
   "language": "python",
   "name": "python3"
  },
  "language_info": {
   "codemirror_mode": {
    "name": "ipython",
    "version": 3
   },
   "file_extension": ".py",
   "mimetype": "text/x-python",
   "name": "python",
   "nbconvert_exporter": "python",
   "pygments_lexer": "ipython3",
   "version": "3.12.3"
  }
 },
 "nbformat": 4,
 "nbformat_minor": 5
}
