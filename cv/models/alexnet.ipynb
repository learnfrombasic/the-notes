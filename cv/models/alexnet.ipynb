{
 "cells": [
  {
   "cell_type": "markdown",
   "metadata": {},
   "source": [
    "# Environment\n",
    "\n",
    "Link: [ImageNet Classification with Deep Convolutional Neural Networks](https://papers.nips.cc/paper_files/paper/2012/file/c399862d3b9d6b76c8436e924a68c45b-Paper.pdf)"
   ]
  },
  {
   "cell_type": "code",
   "execution_count": 4,
   "metadata": {},
   "outputs": [],
   "source": [
    "from __future__ import absolute_import, division, print_function, unicode_literals\n",
    "\n",
    "import torch\n",
    "import torch.nn as nn"
   ]
  },
  {
   "cell_type": "code",
   "execution_count": 6,
   "metadata": {},
   "outputs": [],
   "source": [
    "\n",
    "import torch.nn as nn\n",
    "\n",
    "\n",
    "class AlexNetLegacy(nn.Module):\n",
    "    configs = [3, 96, 256, 384, 384, 256]\n",
    "\n",
    "    def __init__(self, width_mult=1):\n",
    "        configs = list(\n",
    "            map(lambda x: 3 if x == 3 else int(x * width_mult), AlexNet.configs)\n",
    "        )\n",
    "        super(AlexNetLegacy, self).__init__()\n",
    "        self.features = nn.Sequential(\n",
    "            nn.Conv2d(configs[0], configs[1], kernel_size=11, stride=2),\n",
    "            nn.BatchNorm2d(configs[1]),\n",
    "            nn.MaxPool2d(kernel_size=3, stride=2),\n",
    "            nn.ReLU(inplace=True),\n",
    "            nn.Conv2d(configs[1], configs[2], kernel_size=5),\n",
    "            nn.BatchNorm2d(configs[2]),\n",
    "            nn.MaxPool2d(kernel_size=3, stride=2),\n",
    "            nn.ReLU(inplace=True),\n",
    "            nn.Conv2d(configs[2], configs[3], kernel_size=3),\n",
    "            nn.BatchNorm2d(configs[3]),\n",
    "            nn.ReLU(inplace=True),\n",
    "            nn.Conv2d(configs[3], configs[4], kernel_size=3),\n",
    "            nn.BatchNorm2d(configs[4]),\n",
    "            nn.ReLU(inplace=True),\n",
    "            nn.Conv2d(configs[4], configs[5], kernel_size=3),\n",
    "            nn.BatchNorm2d(configs[5]),\n",
    "        )\n",
    "        self.feature_size = configs[5]\n",
    "\n",
    "    def forward(self, x):\n",
    "        x = self.features(x)\n",
    "        return x\n",
    "\n",
    "\n",
    "class AlexNet(nn.Module):\n",
    "    configs = [3, 96, 256, 384, 384, 256]\n",
    "\n",
    "    def __init__(self, width_mult=1):\n",
    "        configs = list(\n",
    "            map(lambda x: 3 if x == 3 else int(x * width_mult), AlexNet.configs)\n",
    "        )\n",
    "        super(AlexNet, self).__init__()\n",
    "        self.layer1 = nn.Sequential(\n",
    "            nn.Conv2d(configs[0], configs[1], kernel_size=11, stride=2),\n",
    "            nn.BatchNorm2d(configs[1]),\n",
    "            nn.MaxPool2d(kernel_size=3, stride=2),\n",
    "            nn.ReLU(inplace=True),\n",
    "        )\n",
    "        self.layer2 = nn.Sequential(\n",
    "            nn.Conv2d(configs[1], configs[2], kernel_size=5),\n",
    "            nn.BatchNorm2d(configs[2]),\n",
    "            nn.MaxPool2d(kernel_size=3, stride=2),\n",
    "            nn.ReLU(inplace=True),\n",
    "        )\n",
    "        self.layer3 = nn.Sequential(\n",
    "            nn.Conv2d(configs[2], configs[3], kernel_size=3),\n",
    "            nn.BatchNorm2d(configs[3]),\n",
    "            nn.ReLU(inplace=True),\n",
    "        )\n",
    "        self.layer4 = nn.Sequential(\n",
    "            nn.Conv2d(configs[3], configs[4], kernel_size=3),\n",
    "            nn.BatchNorm2d(configs[4]),\n",
    "            nn.ReLU(inplace=True),\n",
    "        )\n",
    "\n",
    "        self.layer5 = nn.Sequential(\n",
    "            nn.Conv2d(configs[4], configs[5], kernel_size=3),\n",
    "            nn.BatchNorm2d(configs[5]),\n",
    "        )\n",
    "        self.feature_size = configs[5]\n",
    "\n",
    "    def forward(self, x):\n",
    "        x = self.layer1(x)\n",
    "        x = self.layer2(x)\n",
    "        x = self.layer3(x)\n",
    "        x = self.layer4(x)\n",
    "        x = self.layer5(x)\n",
    "        return x\n",
    "\n",
    "\n",
    "def alexnetlegacy(**kwargs):\n",
    "    return AlexNetLegacy(**kwargs)\n",
    "\n",
    "\n",
    "def alexnet(**kwargs):\n",
    "    return AlexNet(**kwargs)\n"
   ]
  },
  {
   "cell_type": "code",
   "execution_count": null,
   "metadata": {},
   "outputs": [],
   "source": []
  },
  {
   "cell_type": "code",
   "execution_count": null,
   "metadata": {},
   "outputs": [],
   "source": []
  },
  {
   "cell_type": "markdown",
   "metadata": {},
   "source": [
    "# Experiment"
   ]
  },
  {
   "cell_type": "code",
   "execution_count": 7,
   "metadata": {},
   "outputs": [
    {
     "name": "stdout",
     "output_type": "stream",
     "text": [
      "Legacy model output shape: torch.Size([1, 256, 18, 18])\n",
      "New model output shape: torch.Size([1, 256, 18, 18])\n"
     ]
    }
   ],
   "source": [
    "# Create a random input tensor\n",
    "batch_size = 1\n",
    "channels = 3\n",
    "height = 227  # AlexNet expects 227x227 input\n",
    "width = 227\n",
    "\n",
    "# Create random input tensor\n",
    "input_tensor = torch.randn(batch_size, channels, height, width)\n",
    "\n",
    "# Initialize models\n",
    "model_legacy = alexnetlegacy(width_mult=1.0)\n",
    "model = alexnet(width_mult=1.0)\n",
    "\n",
    "# Set models to evaluation mode\n",
    "model_legacy.eval()\n",
    "model.eval()\n",
    "\n",
    "# Forward pass\n",
    "with torch.no_grad():\n",
    "    output_legacy = model_legacy(input_tensor)\n",
    "    output = model(input_tensor)\n",
    "\n",
    "# Print output shapes\n",
    "print(f\"Legacy model output shape: {output_legacy.shape}\")\n",
    "print(f\"New model output shape: {output.shape}\")"
   ]
  },
  {
   "cell_type": "code",
   "execution_count": null,
   "metadata": {},
   "outputs": [],
   "source": []
  },
  {
   "cell_type": "markdown",
   "metadata": {},
   "source": [
    "## EDA"
   ]
  },
  {
   "cell_type": "code",
   "execution_count": null,
   "metadata": {},
   "outputs": [],
   "source": []
  },
  {
   "cell_type": "code",
   "execution_count": null,
   "metadata": {},
   "outputs": [],
   "source": []
  },
  {
   "cell_type": "markdown",
   "metadata": {},
   "source": [
    "## Model Setup"
   ]
  },
  {
   "cell_type": "code",
   "execution_count": null,
   "metadata": {},
   "outputs": [],
   "source": [
    "class AlexNetLegacy(nn.Module):\n",
    "    configs = [3, 96, 256, 384, 384, 256]\n",
    "\n",
    "    def __init__(self, width_mult=1):\n",
    "        configs = list(\n",
    "            map(lambda x: 3 if x == 3 else int(x * width_mult), AlexNet.configs)\n",
    "        )\n",
    "        super(AlexNetLegacy, self).__init__()\n",
    "        self.features = nn.Sequential(\n",
    "            nn.Conv2d(configs[0], configs[1], kernel_size=11, stride=2),\n",
    "            nn.BatchNorm2d(configs[1]),\n",
    "            nn.MaxPool2d(kernel_size=3, stride=2),\n",
    "            nn.ReLU(inplace=True),\n",
    "            nn.Conv2d(configs[1], configs[2], kernel_size=5),\n",
    "            nn.BatchNorm2d(configs[2]),\n",
    "            nn.MaxPool2d(kernel_size=3, stride=2),\n",
    "            nn.ReLU(inplace=True),\n",
    "            nn.Conv2d(configs[2], configs[3], kernel_size=3),\n",
    "            nn.BatchNorm2d(configs[3]),\n",
    "            nn.ReLU(inplace=True),\n",
    "            nn.Conv2d(configs[3], configs[4], kernel_size=3),\n",
    "            nn.BatchNorm2d(configs[4]),\n",
    "            nn.ReLU(inplace=True),\n",
    "            nn.Conv2d(configs[4], configs[5], kernel_size=3),\n",
    "            nn.BatchNorm2d(configs[5]),\n",
    "        )\n",
    "        self.feature_size = configs[5]\n",
    "\n",
    "    def forward(self, x):\n",
    "        x = self.features(x)\n",
    "        return x\n",
    "\n",
    "\n",
    "class AlexNet(nn.Module):\n",
    "    configs = [3, 96, 256, 384, 384, 256]\n",
    "\n",
    "    def __init__(self, width_mult=1):\n",
    "        configs = list(\n",
    "            map(lambda x: 3 if x == 3 else int(x * width_mult), AlexNet.configs)\n",
    "        )\n",
    "        super(AlexNet, self).__init__()\n",
    "        self.layer1 = nn.Sequential(\n",
    "            nn.Conv2d(configs[0], configs[1], kernel_size=11, stride=2),\n",
    "            nn.BatchNorm2d(configs[1]),\n",
    "            nn.MaxPool2d(kernel_size=3, stride=2),\n",
    "            nn.ReLU(inplace=True),\n",
    "        )\n",
    "        self.layer2 = nn.Sequential(\n",
    "            nn.Conv2d(configs[1], configs[2], kernel_size=5),\n",
    "            nn.BatchNorm2d(configs[2]),\n",
    "            nn.MaxPool2d(kernel_size=3, stride=2),\n",
    "            nn.ReLU(inplace=True),\n",
    "        )\n",
    "        self.layer3 = nn.Sequential(\n",
    "            nn.Conv2d(configs[2], configs[3], kernel_size=3),\n",
    "            nn.BatchNorm2d(configs[3]),\n",
    "            nn.ReLU(inplace=True),\n",
    "        )\n",
    "        self.layer4 = nn.Sequential(\n",
    "            nn.Conv2d(configs[3], configs[4], kernel_size=3),\n",
    "            nn.BatchNorm2d(configs[4]),\n",
    "            nn.ReLU(inplace=True),\n",
    "        )\n",
    "\n",
    "        self.layer5 = nn.Sequential(\n",
    "            nn.Conv2d(configs[4], configs[5], kernel_size=3),\n",
    "            nn.BatchNorm2d(configs[5]),\n",
    "        )\n",
    "        self.feature_size = configs[5]\n",
    "\n",
    "    def forward(self, x):\n",
    "        x = self.layer1(x)\n",
    "        x = self.layer2(x)\n",
    "        x = self.layer3(x)\n",
    "        x = self.layer4(x)\n",
    "        x = self.layer5(x)\n",
    "        return x\n",
    "\n",
    "\n",
    "def alexnetlegacy(**kwargs):\n",
    "    return AlexNetLegacy(**kwargs)\n",
    "\n",
    "\n",
    "def alexnet(**kwargs):\n",
    "    return AlexNet(**kwargs)"
   ]
  },
  {
   "cell_type": "code",
   "execution_count": null,
   "metadata": {},
   "outputs": [],
   "source": []
  },
  {
   "cell_type": "markdown",
   "metadata": {},
   "source": [
    "## Training/Validating Process"
   ]
  },
  {
   "cell_type": "code",
   "execution_count": null,
   "metadata": {},
   "outputs": [],
   "source": []
  },
  {
   "cell_type": "code",
   "execution_count": null,
   "metadata": {},
   "outputs": [],
   "source": []
  },
  {
   "cell_type": "markdown",
   "metadata": {},
   "source": [
    "## Inference"
   ]
  },
  {
   "cell_type": "code",
   "execution_count": null,
   "metadata": {},
   "outputs": [],
   "source": []
  },
  {
   "cell_type": "code",
   "execution_count": null,
   "metadata": {},
   "outputs": [],
   "source": []
  },
  {
   "cell_type": "markdown",
   "metadata": {},
   "source": [
    "# Conclusion\n",
    "\n",
    "\n",
    "..."
   ]
  }
 ],
 "metadata": {
  "kernelspec": {
   "display_name": "the-notes",
   "language": "python",
   "name": "python3"
  },
  "language_info": {
   "codemirror_mode": {
    "name": "ipython",
    "version": 3
   },
   "file_extension": ".py",
   "mimetype": "text/x-python",
   "name": "python",
   "nbconvert_exporter": "python",
   "pygments_lexer": "ipython3",
   "version": "3.10.16"
  }
 },
 "nbformat": 4,
 "nbformat_minor": 2
}
