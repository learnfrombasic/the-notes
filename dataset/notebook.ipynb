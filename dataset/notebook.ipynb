{
 "cells": [
  {
   "cell_type": "code",
   "execution_count": 8,
   "metadata": {},
   "outputs": [
    {
     "name": "stderr",
     "output_type": "stream",
     "text": [
      "Note: Environment variable`HF_TOKEN` is set and is the current active token independently from the token you've just configured.\n"
     ]
    }
   ],
   "source": [
    "import os\n",
    "from pathlib import Path\n",
    "from dotenv import load_dotenv\n",
    "from datasets import Dataset\n",
    "from huggingface_hub import login\n",
    "\n",
    "load_dotenv()\n",
    "\n",
    "\n",
    "HF_TOKEN = os.getenv(\"HF_TOKEN\")\n",
    "\n",
    "login(token=HF_TOKEN, add_to_git_credential=True)"
   ]
  },
  {
   "cell_type": "code",
   "execution_count": 2,
   "metadata": {},
   "outputs": [
    {
     "name": "stdout",
     "output_type": "stream",
     "text": [
      "/home/octoopt/workspace/projects/learn-from-basics/the-notes/dataset/storage\n"
     ]
    }
   ],
   "source": [
    "root_dir = Path(\".\").parent.resolve()\n",
    "data_dir = root_dir / \"storage\"\n",
    "print(data_dir)"
   ]
  },
  {
   "cell_type": "code",
   "execution_count": 3,
   "metadata": {},
   "outputs": [
    {
     "data": {
      "text/plain": [
       "[PosixPath('/home/octoopt/workspace/projects/learn-from-basics/the-notes/dataset/storage/train_nor_811.xlsx'),\n",
       " PosixPath('/home/octoopt/workspace/projects/learn-from-basics/the-notes/dataset/storage/test_nor_811.xlsx'),\n",
       " PosixPath('/home/octoopt/workspace/projects/learn-from-basics/the-notes/dataset/storage/valid_nor_811.xlsx')]"
      ]
     },
     "execution_count": 3,
     "metadata": {},
     "output_type": "execute_result"
    }
   ],
   "source": [
    "excel_files = list(data_dir.glob(\"**/*.xlsx\"))\n",
    "excel_files"
   ]
  },
  {
   "cell_type": "code",
   "execution_count": null,
   "metadata": {},
   "outputs": [],
   "source": [
    "import polars as pl\n",
    "\n",
    "\n",
    "list_of_dfs = [pl.read_excel(f).columns for f in excel_files]"
   ]
  },
  {
   "cell_type": "code",
   "execution_count": 6,
   "metadata": {},
   "outputs": [
    {
     "data": {
      "text/plain": [
       "[shape: (5_548, 3)\n",
       " ┌──────────────┬───────────┬─────────────────────────────────┐\n",
       " │ __UNNAMED__0 ┆ Emotion   ┆ Sentence                        │\n",
       " │ ---          ┆ ---       ┆ ---                             │\n",
       " │ i64          ┆ str       ┆ str                             │\n",
       " ╞══════════════╪═══════════╪═════════════════════════════════╡\n",
       " │ 188          ┆ Other     ┆ cho mình xin bài nhạc tên là g… │\n",
       " │ 166          ┆ Disgust   ┆ cho đáng đời con quỷ . về nhà … │\n",
       " │ 1345         ┆ Disgust   ┆ lo học đi . yêu đương lol gì h… │\n",
       " │ 316          ┆ Enjoyment ┆ uớc gì sau này về già vẫn có t… │\n",
       " │ 1225         ┆ Enjoyment ┆ mỗi lần có video của con là cứ… │\n",
       " │ …            ┆ …         ┆ …                               │\n",
       " │ 1332         ┆ Disgust   ┆ đường của nhà cụ hay sao mà cụ… │\n",
       " │ 825          ┆ Other     ┆ nhìn mặt héo queo luôn          │\n",
       " │ 165          ┆ Other     ┆ tao đi xe máy mỗi lần muốn để … │\n",
       " │ 363          ┆ Enjoyment ┆ thích thân hình boss rồi nhan … │\n",
       " │ 1242         ┆ Sadness   ┆ ước mơ nhỏ nhoi của tao là đượ… │\n",
       " └──────────────┴───────────┴─────────────────────────────────┘,\n",
       " shape: (693, 3)\n",
       " ┌──────────────┬───────────┬─────────────────────────────────┐\n",
       " │ __UNNAMED__0 ┆ Emotion   ┆ Sentence                        │\n",
       " │ ---          ┆ ---       ┆ ---                             │\n",
       " │ i64          ┆ str       ┆ str                             │\n",
       " ╞══════════════╪═══════════╪═════════════════════════════════╡\n",
       " │ 713          ┆ Sadness   ┆ người ta có bạn bè nhìn vui th… │\n",
       " │ 1827         ┆ Surprise  ┆ cho nghỉ viêc mói đúng sao goi… │\n",
       " │ 1166         ┆ Disgust   ┆ kinh vãi 😡                     │\n",
       " │ 228          ┆ Fear      ┆ nhà thì không xa lắm nhưng chư… │\n",
       " │ 1942         ┆ Anger     ┆ bố không thích nộp đấy mày thí… │\n",
       " │ …            ┆ …         ┆ …                               │\n",
       " │ 432          ┆ Sadness   ┆ lúc thì cuốc đất è cổ ra không… │\n",
       " │ 178          ┆ Enjoyment ┆ các bác dẫn crush qua cây sữa … │\n",
       " │ 1863         ┆ Surprise  ┆ vợ chồng rồi mà trong sáng như… │\n",
       " │ 476          ┆ Other     ┆ bep này vào binh dương dùng xu… │\n",
       " │ 1607         ┆ Surprise  ┆ đôi mắt đằm thắm vãi            │\n",
       " └──────────────┴───────────┴─────────────────────────────────┘,\n",
       " shape: (686, 3)\n",
       " ┌──────────────┬───────────┬─────────────────────────────────┐\n",
       " │ __UNNAMED__0 ┆ Emotion   ┆ Sentence                        │\n",
       " │ ---          ┆ ---       ┆ ---                             │\n",
       " │ i64          ┆ str       ┆ str                             │\n",
       " ╞══════════════╪═══════════╪═════════════════════════════════╡\n",
       " │ 941          ┆ Other     ┆ tính tao tao biết , chẳng có c… │\n",
       " │ 142          ┆ Enjoyment ┆ lại là lào cai , tự hào quê mì… │\n",
       " │ 1164         ┆ Sadness   ┆ bị từ chối rồi                  │\n",
       " │ 182          ┆ Enjoyment ┆ tam đảo trời đẹp các mem à      │\n",
       " │ 868          ┆ Other     ┆ đọc bình luận của thằng đó khô… │\n",
       " │ …            ┆ …         ┆ …                               │\n",
       " │ 1290         ┆ Sadness   ┆ nhọc lòng :(((                  │\n",
       " │ 881          ┆ Sadness   ┆ tao đã rất muốn làm bạn tốt an… │\n",
       " │ 1689         ┆ Disgust   ┆ cơm tấm ở ngoài cũng như này .… │\n",
       " │ 1779         ┆ Surprise  ┆ chất liệu đỉnh quá              │\n",
       " │ 1486         ┆ Anger     ┆ dume lũ mất dạy . bố mẹ cho mà… │\n",
       " └──────────────┴───────────┴─────────────────────────────────┘]"
      ]
     },
     "execution_count": 6,
     "metadata": {},
     "output_type": "execute_result"
    }
   ],
   "source": [
    "list_of_dfs"
   ]
  },
  {
   "cell_type": "code",
   "execution_count": 10,
   "metadata": {},
   "outputs": [
    {
     "name": "stdout",
     "output_type": "stream",
     "text": [
      "Successfully combined all Excel files.\n",
      "Combined DataFrame schema: Schema([('__UNNAMED__0', Int64), ('Emotion', String), ('Sentence', String)])\n",
      "Combined DataFrame shape: (6927, 3)\n",
      "Successfully dropped '__UNNAMED__0' column.\n",
      "Converted DataFrame to Hugging Face Dataset.\n",
      "Dataset({\n",
      "    features: ['Emotion', 'Sentence'],\n",
      "    num_rows: 6927\n",
      "})\n"
     ]
    }
   ],
   "source": [
    "# Concatenate all DataFrames into one\n",
    "combined_df = pl.concat(list_of_dfs)\n",
    "print(\"Successfully combined all Excel files.\")\n",
    "print(\"Combined DataFrame schema:\", combined_df.schema)\n",
    "print(\"Combined DataFrame shape:\", combined_df.shape)\n",
    "\n",
    "if \"__UNNAMED__0\" in combined_df.columns:\n",
    "    combined_df = combined_df.drop(\"__UNNAMED__0\")\n",
    "    print(\"Successfully dropped '__UNNAMED__0' column.\")\n",
    "\n",
    "# Convert the Polars DataFrame to a Hugging Face Dataset\n",
    "hf_dataset = Dataset.from_polars(combined_df)\n",
    "print(\"Converted DataFrame to Hugging Face Dataset.\")\n",
    "print(hf_dataset)"
   ]
  },
  {
   "cell_type": "code",
   "execution_count": null,
   "metadata": {},
   "outputs": [
    {
     "data": {
      "text/html": [
       "<div><style>\n",
       ".dataframe > thead > tr,\n",
       ".dataframe > tbody > tr {\n",
       "  text-align: right;\n",
       "  white-space: pre-wrap;\n",
       "}\n",
       "</style>\n",
       "<small>shape: (7,)</small><table border=\"1\" class=\"dataframe\"><thead><tr><th>Emotion</th></tr><tr><td>str</td></tr></thead><tbody><tr><td>&quot;Fear&quot;</td></tr><tr><td>&quot;Sadness&quot;</td></tr><tr><td>&quot;Anger&quot;</td></tr><tr><td>&quot;Surprise&quot;</td></tr><tr><td>&quot;Enjoyment&quot;</td></tr><tr><td>&quot;Other&quot;</td></tr><tr><td>&quot;Disgust&quot;</td></tr></tbody></table></div>"
      ],
      "text/plain": [
       "shape: (7,)\n",
       "Series: 'Emotion' [str]\n",
       "[\n",
       "\t\"Fear\"\n",
       "\t\"Sadness\"\n",
       "\t\"Anger\"\n",
       "\t\"Surprise\"\n",
       "\t\"Enjoyment\"\n",
       "\t\"Other\"\n",
       "\t\"Disgust\"\n",
       "]"
      ]
     },
     "execution_count": 16,
     "metadata": {},
     "output_type": "execute_result"
    }
   ],
   "source": [
    "combined_df.get_column(\"Emotion\").unique()"
   ]
  },
  {
   "cell_type": "code",
   "execution_count": 20,
   "metadata": {},
   "outputs": [
    {
     "name": "stdout",
     "output_type": "stream",
     "text": [
      "shape: (7, 2)\n",
      "┌───────────┬───────┐\n",
      "│ Emotion   ┆ count │\n",
      "│ ---       ┆ ---   │\n",
      "│ str       ┆ u32   │\n",
      "╞═══════════╪═══════╡\n",
      "│ Surprise  ┆ 309   │\n",
      "│ Sadness   ┆ 1149  │\n",
      "│ Other     ┆ 1291  │\n",
      "│ Enjoyment ┆ 1965  │\n",
      "│ Fear      ┆ 395   │\n",
      "│ Disgust   ┆ 1338  │\n",
      "│ Anger     ┆ 480   │\n",
      "└───────────┴───────┘\n"
     ]
    }
   ],
   "source": [
    "# Frequency table of each distinct label in the column\n",
    "label_counts = combined_df[\"Emotion\"].value_counts()  # returns a DataFrame\n",
    "print(label_counts)"
   ]
  },
  {
   "cell_type": "code",
   "execution_count": 23,
   "metadata": {},
   "outputs": [
    {
     "data": {
      "text/html": [
       "<div><style>\n",
       ".dataframe > thead > tr,\n",
       ".dataframe > tbody > tr {\n",
       "  text-align: right;\n",
       "  white-space: pre-wrap;\n",
       "}\n",
       "</style>\n",
       "<small>shape: (3, 2)</small><table border=\"1\" class=\"dataframe\"><thead><tr><th>Emotion</th><th>Sentence</th></tr><tr><td>str</td><td>str</td></tr></thead><tbody><tr><td>&quot;Other&quot;</td><td>&quot;cho mình xin bài nhạc tên là g…</td></tr><tr><td>&quot;Disgust&quot;</td><td>&quot;cho đáng đời con quỷ . về nhà …</td></tr><tr><td>&quot;Disgust&quot;</td><td>&quot;lo học đi . yêu đương lol gì h…</td></tr></tbody></table></div>"
      ],
      "text/plain": [
       "shape: (3, 2)\n",
       "┌─────────┬─────────────────────────────────┐\n",
       "│ Emotion ┆ Sentence                        │\n",
       "│ ---     ┆ ---                             │\n",
       "│ str     ┆ str                             │\n",
       "╞═════════╪═════════════════════════════════╡\n",
       "│ Other   ┆ cho mình xin bài nhạc tên là g… │\n",
       "│ Disgust ┆ cho đáng đời con quỷ . về nhà … │\n",
       "│ Disgust ┆ lo học đi . yêu đương lol gì h… │\n",
       "└─────────┴─────────────────────────────────┘"
      ]
     },
     "execution_count": 23,
     "metadata": {},
     "output_type": "execute_result"
    }
   ],
   "source": [
    "combined_df[:3]"
   ]
  },
  {
   "cell_type": "code",
   "execution_count": 11,
   "metadata": {},
   "outputs": [
    {
     "name": "stdout",
     "output_type": "stream",
     "text": [
      "Pushing dataset to 'minhleduc/sentiment-classification-vietnamese-v1' on the Hugging Face Hub...\n"
     ]
    },
    {
     "data": {
      "application/vnd.jupyter.widget-view+json": {
       "model_id": "f4b9fdc249834f20aed02df58a5ebfe3",
       "version_major": 2,
       "version_minor": 0
      },
      "text/plain": [
       "Uploading the dataset shards:   0%|          | 0/1 [00:00<?, ?it/s]"
      ]
     },
     "metadata": {},
     "output_type": "display_data"
    },
    {
     "data": {
      "application/vnd.jupyter.widget-view+json": {
       "model_id": "5340668f6877453ea41eb79605555d37",
       "version_major": 2,
       "version_minor": 0
      },
      "text/plain": [
       "Creating parquet from Arrow format:   0%|          | 0/7 [00:00<?, ?ba/s]"
      ]
     },
     "metadata": {},
     "output_type": "display_data"
    },
    {
     "name": "stdout",
     "output_type": "stream",
     "text": [
      "\n",
      "Push complete!\n",
      "You can view your dataset at: https://huggingface.co/datasets/minhleduc/sentiment-classification-vietnamese-v1\n"
     ]
    }
   ],
   "source": [
    "# Push the dataset to the Hub\n",
    "repo_id = \"minhleduc/sentiment-classification-vietnamese-v1\"\n",
    "print(f\"Pushing dataset to '{repo_id}' on the Hugging Face Hub...\")\n",
    "# To make the dataset private, add `private=True`\n",
    "hf_dataset.push_to_hub(repo_id)\n",
    "\n",
    "print(\"\\nPush complete!\")\n",
    "print(f\"You can view your dataset at: https://huggingface.co/datasets/{repo_id}\")"
   ]
  },
  {
   "cell_type": "code",
   "execution_count": 47,
   "metadata": {},
   "outputs": [
    {
     "data": {
      "text/plain": [
       "'/home/octoopt/workspace/projects/learn-from-basics/the-notes/dataset/storage/vlmu_dialog_v1/vi_dialogue_question_only.json'"
      ]
     },
     "execution_count": 47,
     "metadata": {},
     "output_type": "execute_result"
    }
   ],
   "source": [
    "str(datasets[1])"
   ]
  },
  {
   "cell_type": "code",
   "execution_count": 43,
   "metadata": {},
   "outputs": [
    {
     "name": "stderr",
     "output_type": "stream",
     "text": [
      "Generating train split: 3310 examples [00:00, 32542.34 examples/s]\n"
     ]
    },
    {
     "data": {
      "text/plain": [
       "Dataset({\n",
       "    features: ['data'],\n",
       "    num_rows: 3310\n",
       "})"
      ]
     },
     "execution_count": 43,
     "metadata": {},
     "output_type": "execute_result"
    }
   ],
   "source": [
    "from datasets import load_dataset\n",
    "\n",
    "dataset = load_dataset(\n",
    "    \"json\", data_files=str(datasets[2]), split=\"train\"\n",
    ").remove_columns(\"__count__\")\n",
    "\n",
    "dataset"
   ]
  },
  {
   "cell_type": "code",
   "execution_count": 44,
   "metadata": {},
   "outputs": [
    {
     "data": {
      "text/plain": [
       "DatasetDict({\n",
       "    train: Dataset({\n",
       "        features: ['data'],\n",
       "        num_rows: 2648\n",
       "    })\n",
       "    test: Dataset({\n",
       "        features: ['data'],\n",
       "        num_rows: 662\n",
       "    })\n",
       "})"
      ]
     },
     "execution_count": 44,
     "metadata": {},
     "output_type": "execute_result"
    }
   ],
   "source": [
    "ds = dataset.train_test_split(test_size=0.2)\n",
    "ds"
   ]
  },
  {
   "cell_type": "code",
   "execution_count": 45,
   "metadata": {},
   "outputs": [
    {
     "name": "stderr",
     "output_type": "stream",
     "text": [
      "Creating parquet from Arrow format: 100%|██████████| 3/3 [00:00<00:00, 45.05ba/s]\n",
      "Uploading the dataset shards: 100%|██████████| 1/1 [00:03<00:00,  3.21s/it]\n",
      "Creating parquet from Arrow format: 100%|██████████| 1/1 [00:00<00:00, 38.70ba/s]\n",
      "Uploading the dataset shards: 100%|██████████| 1/1 [00:02<00:00,  2.26s/it]\n"
     ]
    },
    {
     "data": {
      "text/plain": [
       "CommitInfo(commit_url='https://huggingface.co/datasets/StoicCodingLab/vi_squad_benchmark_question_only/commit/15db0cb39f6e6fc8a575940b857ae8d94723a179', commit_message='Upload dataset', commit_description='', oid='15db0cb39f6e6fc8a575940b857ae8d94723a179', pr_url=None, repo_url=RepoUrl('https://huggingface.co/datasets/StoicCodingLab/vi_squad_benchmark_question_only', endpoint='https://huggingface.co', repo_type='dataset', repo_id='StoicCodingLab/vi_squad_benchmark_question_only'), pr_revision=None, pr_num=None)"
      ]
     },
     "execution_count": 45,
     "metadata": {},
     "output_type": "execute_result"
    }
   ],
   "source": [
    "ds.push_to_hub(\n",
    "    \"StoicCodingLab/vi_squad_benchmark_question_only\",\n",
    "    # private=True\n",
    ")"
   ]
  },
  {
   "cell_type": "code",
   "execution_count": null,
   "metadata": {},
   "outputs": [],
   "source": [
    "dataset = load_dataset(\"organization/dataset_name\", token=True)"
   ]
  },
  {
   "cell_type": "code",
   "execution_count": null,
   "metadata": {},
   "outputs": [],
   "source": []
  }
 ],
 "metadata": {
  "kernelspec": {
   "display_name": "the-notes",
   "language": "python",
   "name": "python3"
  },
  "language_info": {
   "codemirror_mode": {
    "name": "ipython",
    "version": 3
   },
   "file_extension": ".py",
   "mimetype": "text/x-python",
   "name": "python",
   "nbconvert_exporter": "python",
   "pygments_lexer": "ipython3",
   "version": "3.10.16"
  }
 },
 "nbformat": 4,
 "nbformat_minor": 2
}
