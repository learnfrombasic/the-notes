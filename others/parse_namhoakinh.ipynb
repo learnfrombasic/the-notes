{
 "cells": [
  {
   "cell_type": "code",
   "execution_count": 19,
   "id": "a94afe4c",
   "metadata": {},
   "outputs": [],
   "source": [
    "import pymupdf\n",
    "import xml.etree.ElementTree as ET\n",
    "from xml.dom import minidom\n",
    "import re\n",
    "import nltk\n",
    "import unicodedata\n",
    "from pathlib import Path\n",
    "\n",
    "# ──────────────── CẤU HÌNH ────────────────\n",
    "BOOK_METADATA = {\n",
    "    \"NAM_HOA_KINH\": {\n",
    "        \"TITLE\": \"Nam Hoa Kinh\",\n",
    "        \"VOLUME\": \"\",\n",
    "        \"AUTHOR\": \"Trang Tử\",\n",
    "        \"PERIOD\": \"Chiến Quốc\",\n",
    "        \"LANGUAGE\": \"vi\",\n",
    "        \"SOURCE\": \"thuviensach.vn\"\n",
    "    },\n",
    "    \"TRANG_TU_NAM_HOA_KINH\": {\n",
    "        \"TITLE\": \"Nam Hoa Kinh (Bản học thuật)\",\n",
    "        \"VOLUME\": \"\",\n",
    "        \"AUTHOR\": \"Trang Tử\",\n",
    "        \"PERIOD\": \"Chiến Quốc\",\n",
    "        \"LANGUAGE\": \"vi\",\n",
    "        \"SOURCE\": \"Bản học thuật số hoá\"\n",
    "    },\n",
    "    \"TRANG_TU_NAM_HOA_KINH_2\": {\n",
    "        \"TITLE\": \"Nam Hoa Kinh (Bản dịch)\",\n",
    "        \"VOLUME\": \"\",\n",
    "        \"AUTHOR\": \"Trang Tử\",\n",
    "        \"PERIOD\": \"Chiến Quốc\",\n",
    "        \"LANGUAGE\": \"vi\",\n",
    "        \"SOURCE\": \"Bản dịch hiện đại\"\n",
    "    }\n",
    "}"
   ]
  },
  {
   "cell_type": "code",
   "execution_count": null,
   "id": "d5ed4246",
   "metadata": {},
   "outputs": [],
   "source": [
    "# ──────────────── HÀM TIỆN ÍCH ────────────────\n",
    "def normalize(s): return unicodedata.normalize(\"NFC\", s)\n",
    "\n",
    "def clean_page(text):\n",
    "    text = normalize(text)\n",
    "    text = re.sub(r'TRANG TỬ.*NAM HOA KINH.*', '', text, flags=re.I)\n",
    "    text = re.sub(r'(?<!\\n)\\n(?!\\n)', ' ', text)  # nối dòng giữa câu\n",
    "    return text.strip()\n",
    "\n",
    "def split_paragraphs(text):\n",
    "    return [normalize(p.strip()) for p in re.split(r'\\n\\s*\\n', text) if p.strip()]\n",
    "\n",
    "def split_sentences(text):\n",
    "    # Split by Vietnamese sentence delimiters\n",
    "    # Vietnamese sentences typically end with ., !, or ?\n",
    "    delimiters = ['.', '!', '?']\n",
    "    sentences = []\n",
    "    current_sentence = ''\n",
    "    \n",
    "    for char in text:\n",
    "        current_sentence += char\n",
    "        if char in delimiters:\n",
    "            if current_sentence.strip():\n",
    "                sentences.append(normalize(current_sentence.strip()))\n",
    "            current_sentence = ''\n",
    "    \n",
    "    if current_sentence.strip():  # Add any remaining text\n",
    "        sentences.append(normalize(current_sentence.strip()))\n",
    "    \n",
    "    return sentences\n",
    "\n",
    "def detect_sections(pages):\n",
    "    section_pattern = re.compile(r'^(PHẦN|CHƯƠNG)\\s+[IVXLCDM\\d]+\\.*\\s+.+$', re.MULTILINE)\n",
    "    sections = []\n",
    "    current = {\"name\": \"Giới thiệu\", \"pages\": []}\n",
    "\n",
    "    for i, txt in enumerate(pages, 1):\n",
    "        matches = section_pattern.findall(txt)\n",
    "        if matches:\n",
    "            if current[\"pages\"]:\n",
    "                sections.append(current)\n",
    "            title = re.findall(section_pattern, txt)[0]\n",
    "            current = {\"name\": normalize(title), \"pages\": [(i, txt)]}\n",
    "        else:\n",
    "            current[\"pages\"].append((i, txt))\n",
    "    sections.append(current)\n",
    "    return sections\n",
    "\n",
    "# ──────────────── GHI FILE XML ĐẸP ────────────────\n",
    "def write_pretty_xml(tree, out_path):\n",
    "    pretty = minidom.parseString(ET.tostring(tree.getroot(), encoding=\"utf-8\"))\n",
    "    with open(out_path, \"w\", encoding=\"utf-8\") as f:\n",
    "        f.write(pretty.toprettyxml(indent=\"  \"))\n",
    "\n",
    "# ──────────────── HÀM CHÍNH ────────────────\n",
    "def build_xml_for_book(pdf_path, des=\"output_xml\", code:str=\"\", mode: str = \"sentence\"):\n",
    "    \"\"\"\n",
    "    Tạo file XML từ PDF\n",
    "    \n",
    "    :param pdf_path: Đường dẫn đến file PDF\n",
    "    :param des: Đường dẫn đến thư mục đích\n",
    "    :param code: Mã sách\n",
    "    :param mode: Chế độ tách đoạn (paragraph) hoặc câu (sentence)\n",
    "    \"\"\"\n",
    "    book_name = Path(pdf_path).stem.upper().replace(\"-\", \"_\").replace(\" \", \"_\")\n",
    "    book_id = book_name if book_name in BOOK_METADATA else f\"{book_name}_AUTO\"\n",
    "\n",
    "    doc = pymupdf.open(pdf_path)\n",
    "    pages_text = [clean_page(p.get_text()) for p in doc]\n",
    "\n",
    "    sections = detect_sections(pages_text)\n",
    "    root = ET.Element(\"root\")\n",
    "    file_el = ET.SubElement(root, \"FILE\", ID=book_id)\n",
    "\n",
    "    meta_info = BOOK_METADATA.get(book_id, {})\n",
    "    meta = ET.SubElement(file_el, \"meta\")\n",
    "    ET.SubElement(meta, \"TITLE\").text = meta_info.get(\"TITLE\", book_id.title())\n",
    "    ET.SubElement(meta, \"VOLUME\").text = meta_info.get(\"VOLUME\", \"\")\n",
    "    ET.SubElement(meta, \"AUTHOR\").text = meta_info.get(\"AUTHOR\", \"Không rõ\")\n",
    "    ET.SubElement(meta, \"PERIOD\").text = meta_info.get(\"PERIOD\", \"Không rõ\")\n",
    "    ET.SubElement(meta, \"LANGUAGE\").text = meta_info.get(\"LANGUAGE\", \"vi\")\n",
    "    ET.SubElement(meta, \"SOURCE\").text = meta_info.get(\"SOURCE\", \"Tự động\")\n",
    "\n",
    "    for sect_id, section in enumerate(sections, 1):\n",
    "            sect_el = ET.SubElement(root, \"SECT\", ID=f\"{code}.{sect_id:03}\", NAME=section[\"name\"])\n",
    "            for page_num, page_text in section[\"pages\"]:\n",
    "                page_el = ET.SubElement(sect_el, \"PAGE\", ID=f\"{code}.{sect_id:03}.{page_num:03}\")\n",
    "                \n",
    "                if mode == \"paragraph\": \n",
    "                    paragraphs = split_paragraphs(page_text)\n",
    "                    for para_id, para in enumerate(paragraphs, 1):\n",
    "                        ET.SubElement(page_el, \"STC\", ID=f\"{code}.{sect_id:03}.{page_num:03}.{para_id:02}\").text = para\n",
    "                elif mode == \"sentence\": \n",
    "                    sentences = split_sentences(page_text)\n",
    "                    for sent_id, sent in enumerate(sentences, 1):\n",
    "                        ET.SubElement(page_el, \"STC\", ID=f\"{code}.{sect_id:03}.{page_num:03}.{sent_id:02}\").text = sent\n",
    "                else: \n",
    "                    raise ValueError(\"Giá trị `mode` không hợp lệ; chỉ hỗ trợ 'paragraph' hoặc 'sentence'\")\n",
    "\n",
    "    tree = ET.ElementTree(root)\n",
    "    write_pretty_xml(tree, des)\n",
    "    print(f\"✅ Xuất file XML: {des}\")\n"
   ]
  },
  {
   "cell_type": "code",
   "execution_count": 27,
   "id": "98d6c80e",
   "metadata": {},
   "outputs": [
    {
     "name": "stdout",
     "output_type": "stream",
     "text": [
      "✅ Xuất file XML: nam_hoa_kinh_1_sentence.xml\n"
     ]
    }
   ],
   "source": [
    "pdf_path = \"/home/octoopt/workspace/projects/learn-from-basics/the-notes/test/TrangTu_NamHoaKinh_VanAnh/Nam-hoa-kinh.pdf\"\n",
    "code = \"PKS_001\"\n",
    "mode = \"sentence\"\n",
    "des = f\"nam_hoa_kinh_1_{mode}.xml\"\n",
    "\n",
    "build_xml_for_book(pdf_path, des, code, mode)"
   ]
  },
  {
   "cell_type": "code",
   "execution_count": 28,
   "id": "493dbb39",
   "metadata": {},
   "outputs": [
    {
     "name": "stdout",
     "output_type": "stream",
     "text": [
      "✅ Xuất file XML: nam_hoa_kinh_1_paragraph.xml\n"
     ]
    }
   ],
   "source": [
    "pdf_path = \"/home/octoopt/workspace/projects/learn-from-basics/the-notes/test/TrangTu_NamHoaKinh_VanAnh/Nam-hoa-kinh.pdf\"\n",
    "code = \"PKS_001\"\n",
    "mode = \"paragraph\"\n",
    "des = f\"nam_hoa_kinh_1_{mode}.xml\"\n",
    "\n",
    "build_xml_for_book(pdf_path, des, code, mode)"
   ]
  },
  {
   "cell_type": "code",
   "execution_count": 29,
   "id": "ed295020",
   "metadata": {},
   "outputs": [
    {
     "name": "stdout",
     "output_type": "stream",
     "text": [
      "✅ Xuất file XML: Trang-tu-nam-hoa-kinh_PKS_001_paragraph.xml\n"
     ]
    }
   ],
   "source": [
    "pdf_path = \"/home/octoopt/workspace/projects/learn-from-basics/the-notes/test/TrangTu_NamHoaKinh_VanAnh/Trang-tu-nam-hoa-kinh.pdf\"\n",
    "code = \"PKS_001\"\n",
    "mode = \"paragraph\"\n",
    "file_name = \"Trang-tu-nam-hoa-kinh\"\n",
    "des = f\"{file_name}_{code}_{mode}.xml\"\n",
    "\n",
    "build_xml_for_book(pdf_path, des, code, mode)"
   ]
  },
  {
   "cell_type": "code",
   "execution_count": 32,
   "id": "797284b1",
   "metadata": {},
   "outputs": [
    {
     "name": "stdout",
     "output_type": "stream",
     "text": [
      "✅ Xuất file XML: Trang-tu-nam-hoa-kinh_PKS_001_sentence.xml\n"
     ]
    }
   ],
   "source": [
    "pdf_path = \"/home/octoopt/workspace/projects/learn-from-basics/the-notes/test/TrangTu_NamHoaKinh_VanAnh/Trang-tu-nam-hoa-kinh.pdf\"\n",
    "code = \"PKS_001\"\n",
    "mode = \"sentence\"\n",
    "file_name = \"Trang-tu-nam-hoa-kinh\"\n",
    "des = f\"{file_name}_{code}_{mode}.xml\"\n",
    "build_xml_for_book(pdf_path, des, code, mode)"
   ]
  },
  {
   "cell_type": "code",
   "execution_count": 33,
   "id": "13d2b5e9",
   "metadata": {},
   "outputs": [
    {
     "name": "stdout",
     "output_type": "stream",
     "text": [
      "✅ Xuất file XML: TRANG TỬ NAM HOA KINH_PKS_001_sentence.xml\n"
     ]
    }
   ],
   "source": [
    "pdf_path = \"/home/octoopt/workspace/projects/learn-from-basics/the-notes/test/TrangTu_NamHoaKinh_VanAnh/TRANG TỬ NAM HOA KINH.pdf\"\n",
    "code = \"PKS_001\"\n",
    "mode = \"sentence\"\n",
    "file_name = \"TRANG TỬ NAM HOA KINH\"\n",
    "des = f\"{file_name}_{code}_{mode}.xml\"\n",
    "build_xml_for_book(pdf_path, des, code, mode)"
   ]
  },
  {
   "cell_type": "code",
   "execution_count": null,
   "id": "10ea15bd",
   "metadata": {},
   "outputs": [],
   "source": [
    "pdf_path = \"/home/octoopt/workspace/projects/learn-from-basics/the-notes/test/TrangTu_NamHoaKinh_VanAnh/TRANG TỬ NAM HOA KINH.pdf\"\n",
    "code = \"PKS_001\"\n",
    "mode = \"sentence\"\n",
    "file_name = \"TRANG TỬ NAM HOA KINH\"\n",
    "des = f\"{file_name}_{code}_{mode}.xml\"\n",
    "build_xml_for_book(pdf_path, des, code, mode)"
   ]
  },
  {
   "cell_type": "code",
   "execution_count": 3,
   "id": "3ae8b96c",
   "metadata": {},
   "outputs": [
    {
     "name": "stdout",
     "output_type": "stream",
     "text": [
      "Total number of sentences: 3061\n",
      "\n",
      "Number of sentences per section:\n",
      "- Giới thiệu: 3061 sentences\n"
     ]
    }
   ],
   "source": [
    "import xml.etree.ElementTree as ET\n",
    "\n",
    "def count_sentences(xml_file_path):\n",
    "    # Parse the XML file\n",
    "    tree = ET.parse(xml_file_path)\n",
    "    root = tree.getroot()\n",
    "    \n",
    "    # Find all STC elements (sentences)\n",
    "    sentences = root.findall('.//STC')\n",
    "    \n",
    "    # Count the sentences\n",
    "    total_sentences = len(sentences)\n",
    "    \n",
    "    # Count sentences per section\n",
    "    sections = {}\n",
    "    for section in root.findall('.//SECT'):\n",
    "        section_name = section.get('NAME', 'Unknown')\n",
    "        section_sentences = section.findall('.//STC')\n",
    "        sections[section_name] = len(section_sentences)\n",
    "    \n",
    "    return total_sentences, sections\n",
    "\n",
    "# Path to your XML file\n",
    "xml_file = \"/home/octoopt/workspace/projects/learn-from-basics/the-notes/others/nam_hoa_kinh_1_sentence.xml\"\n",
    "\n",
    "# Get the counts\n",
    "total, section_counts = count_sentences(xml_file)\n",
    "\n",
    "print(f\"Total number of sentences: {total}\")\n",
    "print(\"\\nNumber of sentences per section:\")\n",
    "for section, count in section_counts.items():\n",
    "    print(f\"- {section}: {count} sentences\")"
   ]
  },
  {
   "cell_type": "code",
   "execution_count": 4,
   "id": "c3cf4e43",
   "metadata": {},
   "outputs": [
    {
     "name": "stdout",
     "output_type": "stream",
     "text": [
      "Total number of sentences: 6760\n",
      "\n",
      "Number of sentences per section:\n",
      "- Giới thiệu: 6760 sentences\n"
     ]
    }
   ],
   "source": [
    "import xml.etree.ElementTree as ET\n",
    "\n",
    "def count_sentences(xml_file_path):\n",
    "    # Parse the XML file\n",
    "    tree = ET.parse(xml_file_path)\n",
    "    root = tree.getroot()\n",
    "    \n",
    "    # Find all STC elements (sentences)\n",
    "    sentences = root.findall('.//STC')\n",
    "    \n",
    "    # Count the sentences\n",
    "    total_sentences = len(sentences)\n",
    "    \n",
    "    # Count sentences per section\n",
    "    sections = {}\n",
    "    for section in root.findall('.//SECT'):\n",
    "        section_name = section.get('NAME', 'Unknown')\n",
    "        section_sentences = section.findall('.//STC')\n",
    "        sections[section_name] = len(section_sentences)\n",
    "    \n",
    "    return total_sentences, sections\n",
    "\n",
    "# Path to your XML file\n",
    "xml_file = \"/home/octoopt/workspace/projects/learn-from-basics/the-notes/others/Trang-tu-nam-hoa-kinh_PKS_001_sentence.xml\"\n",
    "\n",
    "# Get the counts\n",
    "total, section_counts = count_sentences(xml_file)\n",
    "\n",
    "print(f\"Total number of sentences: {total}\")\n",
    "print(\"\\nNumber of sentences per section:\")\n",
    "for section, count in section_counts.items():\n",
    "    print(f\"- {section}: {count} sentences\")"
   ]
  }
 ],
 "metadata": {
  "kernelspec": {
   "display_name": "vas",
   "language": "python",
   "name": "python3"
  },
  "language_info": {
   "codemirror_mode": {
    "name": "ipython",
    "version": 3
   },
   "file_extension": ".py",
   "mimetype": "text/x-python",
   "name": "python",
   "nbconvert_exporter": "python",
   "pygments_lexer": "ipython3",
   "version": "3.11.13"
  }
 },
 "nbformat": 4,
 "nbformat_minor": 5
}
