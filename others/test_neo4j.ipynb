{
 "cells": [
  {
   "cell_type": "code",
   "execution_count": 5,
   "id": "964bf569",
   "metadata": {},
   "outputs": [],
   "source": [
    "\n",
    "import logging\n",
    "\n",
    "import colorlog\n",
    "from neo4j import GraphDatabase\n",
    "from pydantic_settings import BaseSettings, SettingsConfigDict\n"
   ]
  },
  {
   "cell_type": "code",
   "execution_count": 7,
   "id": "03f4a79a",
   "metadata": {},
   "outputs": [],
   "source": [
    "class Settings(BaseSettings):\n",
    "    model_config = SettingsConfigDict(\n",
    "        env_file=\".env\", env_ignore_empty=True, extra=\"ignore\"\n",
    "    )\n",
    "\n",
    "    NEO4J_URI: str\n",
    "    NEO4J_USERNAME: str\n",
    "    NEO4J_PASSWORD: str\n",
    "    NEO4J_DATABASE: str\n",
    "    NEO4J_AURA_INSTANCEID: str\n",
    "    NEO4J_AURA_INSTANCENAME: str\n",
    "\n",
    "\n",
    "settings = Settings()"
   ]
  },
  {
   "cell_type": "code",
   "execution_count": 8,
   "id": "b27d3b98",
   "metadata": {},
   "outputs": [],
   "source": [
    "def setup_logger(name: str='8opt') -> logging.Logger:\n",
    "    logger = logging.getLogger(name)\n",
    "    logger.setLevel(logging.DEBUG)\n",
    "\n",
    "    # Remove all existing handlers\n",
    "    logger.handlers.clear()\n",
    "\n",
    "    handler = logging.StreamHandler()\n",
    "\n",
    "    # Define color scheme for different log levels\n",
    "    formatter = colorlog.ColoredFormatter(\n",
    "        \"%(log_color)s%(asctime)s - %(name)s - %(levelname)s - %(message)s\",\n",
    "        datefmt=\"%y-%m-%d %H:%M:%S\",\n",
    "        log_colors={\n",
    "            \"DEBUG\": \"cyan\",\n",
    "            \"INFO\": \"green\",\n",
    "            \"WARNING\": \"yellow\",\n",
    "            \"ERROR\": \"red\",\n",
    "            \"CRITICAL\": \"red,bg_white\",\n",
    "        },\n",
    "    )\n",
    "\n",
    "    handler.setFormatter(formatter)\n",
    "    logger.addHandler(handler)\n",
    "\n",
    "    # Prevent propagation to root logger\n",
    "    logger.propagate = False\n",
    "\n",
    "    return logger\n",
    "\n",
    "\n",
    "logger = setup_logger()\n"
   ]
  },
  {
   "cell_type": "code",
   "execution_count": 10,
   "id": "9fa897a7",
   "metadata": {},
   "outputs": [
    {
     "name": "stderr",
     "output_type": "stream",
     "text": [
      "\u001b[32m25-09-07 20:13:14 - 8opt - INFO - Connection established.\u001b[0m\n"
     ]
    }
   ],
   "source": [
    "with GraphDatabase.driver(\n",
    "    settings.NEO4J_URI, auth=(settings.NEO4J_USERNAME, settings.NEO4J_PASSWORD)\n",
    ") as driver:\n",
    "    driver.verify_connectivity()\n",
    "    logger.info(\"Connection established.\")"
   ]
  },
  {
   "cell_type": "code",
   "execution_count": 16,
   "id": "b4df8ca2",
   "metadata": {},
   "outputs": [
    {
     "name": "stderr",
     "output_type": "stream",
     "text": [
      "/tmp/ipykernel_36314/1836581358.py:1: DeprecationWarning: Using a driver after it has been closed is deprecated. Future versions of the driver will raise an error.\n",
      "  summary = driver.execute_query(\"\"\"\n",
      "\u001b[32m25-09-07 20:18:19 - 8opt - INFO - Created 2 nodes in 24 ms.\u001b[0m\n"
     ]
    }
   ],
   "source": [
    "summary = driver.execute_query(\"\"\"\n",
    "    CREATE (a:Person {name: $name})\n",
    "    CREATE (b:Person {name: $friendName})\n",
    "    CREATE (a)-[:KNOWS]->(b)\n",
    "    \"\"\",\n",
    "    name=\"Alice\", friendName=\"David\",\n",
    "    database_=settings.NEO4J_DATABASE,\n",
    ").summary\n",
    "\n",
    "\n",
    "logger.info(\"Created {nodes_created} nodes in {time} ms.\".format(\n",
    "    nodes_created=summary.counters.nodes_created,\n",
    "    time=summary.result_available_after\n",
    "))"
   ]
  },
  {
   "cell_type": "code",
   "execution_count": 21,
   "id": "6fbf0988",
   "metadata": {},
   "outputs": [
    {
     "name": "stderr",
     "output_type": "stream",
     "text": [
      "/tmp/ipykernel_36314/2601654325.py:1: DeprecationWarning: Using a driver after it has been closed is deprecated. Future versions of the driver will raise an error.\n",
      "  records, summary, keys = driver.execute_query(\"\"\"\n",
      "\u001b[36m25-09-07 20:30:20 - 8opt - DEBUG - {'name': 'Alice'}\u001b[0m\n",
      "\u001b[36m25-09-07 20:30:20 - 8opt - DEBUG - {'name': 'Alice'}\u001b[0m\n",
      "\u001b[32m25-09-07 20:30:20 - 8opt - INFO - The query `\n",
      "    MATCH (p:Person)-[:KNOWS]->(:Person)\n",
      "    RETURN p.name AS name\n",
      "    ` returned 2 records in 6 ms.\u001b[0m\n"
     ]
    }
   ],
   "source": [
    "records, summary, keys = driver.execute_query(\"\"\"\n",
    "    MATCH (p:Person)-[:KNOWS]->(:Person)\n",
    "    RETURN p.name AS name\n",
    "    \"\"\",\n",
    "    database_=settings.NEO4J_DATABASE,\n",
    ")\n",
    "\n",
    "# Loop through results and do something with them\n",
    "for record in records:\n",
    "    logger.debug(record.data())  # obtain record as dict\n",
    "\n",
    "# Summary information\n",
    "logger.info(\"The query `{query}` returned {records_count} records in {time} ms.\".format(\n",
    "    query=summary.query, records_count=len(records),\n",
    "    time=summary.result_available_after\n",
    "))"
   ]
  },
  {
   "cell_type": "code",
   "execution_count": 22,
   "id": "5d422aa4",
   "metadata": {},
   "outputs": [
    {
     "name": "stderr",
     "output_type": "stream",
     "text": [
      "/tmp/ipykernel_36314/1649563956.py:2: DeprecationWarning: Using a driver after it has been closed is deprecated. Future versions of the driver will raise an error.\n",
      "  result = driver.execute_query(\n",
      "\u001b[32m25-09-07 20:32:37 - 8opt - INFO - Found person: David\u001b[0m\n",
      "\u001b[32m25-09-07 20:32:37 - 8opt - INFO - Found person: David\u001b[0m\n"
     ]
    }
   ],
   "source": [
    "# To find David's node\n",
    "result = driver.execute_query(\n",
    "    \"MATCH (p:Person {name: $name}) RETURN p.name AS name\",\n",
    "    name=\"David\",\n",
    "    database_=settings.NEO4J_DATABASE\n",
    ")\n",
    "\n",
    "# The result will contain records with the name property\n",
    "for record in result.records:\n",
    "    logger.info(f\"Found person: {record['name']}\")"
   ]
  },
  {
   "cell_type": "code",
   "execution_count": 23,
   "id": "abf56b4e",
   "metadata": {},
   "outputs": [
    {
     "name": "stderr",
     "output_type": "stream",
     "text": [
      "/tmp/ipykernel_36314/3087214056.py:2: DeprecationWarning: Using a driver after it has been closed is deprecated. Future versions of the driver will raise an error.\n",
      "  result = driver.execute_query(\"\"\"\n",
      "\u001b[32m25-09-07 20:32:54 - 8opt - INFO - Alice knows: David\u001b[0m\n",
      "\u001b[32m25-09-07 20:32:54 - 8opt - INFO - Alice knows: David\u001b[0m\n"
     ]
    }
   ],
   "source": [
    "# To find who Alice knows\n",
    "result = driver.execute_query(\"\"\"\n",
    "    MATCH (a:Person {name: $name})-[:KNOWS]->(friend)\n",
    "    RETURN friend.name AS friend_name\n",
    "    \"\"\",\n",
    "    name=\"Alice\",\n",
    "    database_=settings.NEO4J_DATABASE\n",
    ")\n",
    "\n",
    "for record in result.records:\n",
    "    logger.info(f\"Alice knows: {record['friend_name']}\")"
   ]
  },
  {
   "cell_type": "code",
   "execution_count": 24,
   "id": "fc33a07b",
   "metadata": {},
   "outputs": [
    {
     "name": "stderr",
     "output_type": "stream",
     "text": [
      "/tmp/ipykernel_36314/3219428506.py:2: DeprecationWarning: Using a driver after it has been closed is deprecated. Future versions of the driver will raise an error.\n",
      "  result = driver.execute_query(\"\"\"\n",
      "\u001b[32m25-09-07 20:33:46 - 8opt - INFO - Nodes (labels and properties):\u001b[0m\n",
      "\u001b[32m25-09-07 20:33:46 - 8opt - INFO -   - <Node element_id='-103' labels=frozenset({'Person'}) properties={'name': 'Person', 'indexes': [], 'constraints': []}>\u001b[0m\n",
      "\u001b[32m25-09-07 20:33:46 - 8opt - INFO - \n",
      "Relationships:\u001b[0m\n",
      "\u001b[32m25-09-07 20:33:46 - 8opt - INFO -   - <Relationship element_id='-103' nodes=(<Node element_id='-103' labels=frozenset({'Person'}) properties={'name': 'Person', 'indexes': [], 'constraints': []}>, <Node element_id='-103' labels=frozenset({'Person'}) properties={'name': 'Person', 'indexes': [], 'constraints': []}>) type='KNOWS' properties={'name': 'KNOWS'}>\u001b[0m\n"
     ]
    }
   ],
   "source": [
    "# Get the database schema\n",
    "result = driver.execute_query(\"\"\"\n",
    "    CALL db.schema.visualization()\n",
    "    YIELD nodes, relationships\n",
    "    RETURN nodes, relationships\n",
    "    \"\"\",\n",
    "    database_=settings.NEO4J_DATABASE\n",
    ")\n",
    "\n",
    "# Print the schema information\n",
    "for record in result.records:\n",
    "    logger.info(\"Nodes (labels and properties):\")\n",
    "    for node in record[\"nodes\"]:\n",
    "        logger.info(f\"  - {node}\")\n",
    "    \n",
    "    logger.info(\"\\nRelationships:\")\n",
    "    for rel in record[\"relationships\"]:\n",
    "        logger.info(f\"  - {rel}\")"
   ]
  },
  {
   "cell_type": "code",
   "execution_count": null,
   "id": "5624fc09",
   "metadata": {},
   "outputs": [],
   "source": [
    "# First, let's create some people and their jobs\n",
    "result = driver.execute_query(\"\"\"\n",
    "    // Create people\n",
    "    CREATE (alice:Person {name: 'Alice', age: 30})\n",
    "    CREATE (bob:Person {name: 'Bob', age: 35})\n",
    "    CREATE (charlie:Person {name: 'Charlie', age: 28})\n",
    "    CREATE (david:Person {name: 'David', age: 40})\n",
    "    \n",
    "    // Create jobs\n",
    "    CREATE (engineer:Job {title: 'Software Engineer', department: 'Engineering'})\n",
    "    CREATE (manager:Job {title: 'Project Manager', department: 'Management'})\n",
    "    CREATE (designer:Job {title: 'UI/UX Designer', department: 'Design'})\n",
    "    CREATE (analyst:Job {title: 'Data Analyst', department: 'Analytics'})\n",
    "    \n",
    "    // Create relationships (people to jobs)\n",
    "    CREATE (alice)-[r1:WORKS_AS]->(engineer)\n",
    "    CREATE (bob)-[r2:WORKS_AS]->(manager)\n",
    "    CREATE (charlie)-[r3:WORKS_AS]->(designer)\n",
    "    CREATE (david)-[r4:WORKS_AS]->(analyst)\n",
    "    CREATE (alice)-[r5:WORKS_AS]->(analyst)  // Alice has two jobs\n",
    "    \n",
    "    // Create relationships between people\n",
    "    CREATE (alice)-[:KNOWS]->(bob)\n",
    "    CREATE (alice)-[:KNOWS]->(charlie)\n",
    "    CREATE (bob)-[:MANAGES]->(charlie)\n",
    "    CREATE (bob)-[:MANAGES]->(david)\n",
    "    CREATE (charlie)-[:COLLABORATES_WITH]->(david)\n",
    "    \n",
    "    // Add some properties to relationships\n",
    "    SET r1.since = 2019\n",
    "    SET r2.since = 2018\n",
    "    SET r3.since = 2020\n",
    "    SET r4.since = 2017\n",
    "    SET r5.since = 2021, r5.is_primary = false\n",
    "\"\"\", database_=settings.NEO4J_DATABASE)\n",
    "\n",
    "logger.info(\"Created graph with people, jobs, and relationships\")"
   ]
  },
  {
   "cell_type": "code",
   "execution_count": null,
   "id": "1bffdaeb",
   "metadata": {},
   "outputs": [],
   "source": []
  },
  {
   "cell_type": "code",
   "execution_count": 18,
   "id": "21d8cd8b",
   "metadata": {},
   "outputs": [],
   "source": [
    "# session.close()\n",
    "driver.close()"
   ]
  },
  {
   "cell_type": "code",
   "execution_count": null,
   "id": "3617df59",
   "metadata": {},
   "outputs": [],
   "source": []
  },
  {
   "cell_type": "code",
   "execution_count": null,
   "id": "de3b48c2",
   "metadata": {},
   "outputs": [],
   "source": []
  },
  {
   "cell_type": "code",
   "execution_count": null,
   "id": "7afe2eac",
   "metadata": {},
   "outputs": [],
   "source": []
  },
  {
   "cell_type": "code",
   "execution_count": null,
   "id": "a88f3119",
   "metadata": {},
   "outputs": [],
   "source": []
  },
  {
   "cell_type": "code",
   "execution_count": null,
   "id": "0b9eb22f",
   "metadata": {},
   "outputs": [],
   "source": []
  },
  {
   "cell_type": "code",
   "execution_count": null,
   "id": "c4cf04c7",
   "metadata": {},
   "outputs": [],
   "source": []
  },
  {
   "cell_type": "code",
   "execution_count": null,
   "id": "00a7ef50",
   "metadata": {},
   "outputs": [],
   "source": []
  }
 ],
 "metadata": {
  "kernelspec": {
   "display_name": ".venv",
   "language": "python",
   "name": "python3"
  },
  "language_info": {
   "codemirror_mode": {
    "name": "ipython",
    "version": 3
   },
   "file_extension": ".py",
   "mimetype": "text/x-python",
   "name": "python",
   "nbconvert_exporter": "python",
   "pygments_lexer": "ipython3",
   "version": "3.12.3"
  }
 },
 "nbformat": 4,
 "nbformat_minor": 5
}
