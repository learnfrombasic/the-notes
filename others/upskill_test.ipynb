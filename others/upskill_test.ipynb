{
 "cells": [
  {
   "cell_type": "code",
   "execution_count": 3,
   "id": "c73dbaf5",
   "metadata": {},
   "outputs": [
    {
     "data": {
      "text/plain": [
       "80"
      ]
     },
     "execution_count": 3,
     "metadata": {},
     "output_type": "execute_result"
    }
   ],
   "source": [
    "\"\"\"\n",
    "Write a program to calculate the sum of first n terms of a geometric progression with scale factor a and common ratio r. (Example of input and output: Input: n = 4, a = 2, r = 3. Output will be sum of 2 + 6 + 18 + 54 = 80)\n",
    "\n",
    "2 -> 2 pow(3, 0)\n",
    "6 -> 2 pow(3, 1)\n",
    "18 -> 2 pow(3, 2)\n",
    "54 -> 2 pow(3, 3)\n",
    "\"\"\"\n",
    "\n",
    "\n",
    "def geometric_progression(n: int, a: int, r: int):\n",
    "    \"\"\"\n",
    "    Calculate the geometric progression of:\n",
    "    n :: int : first n terms.\n",
    "    a :: int : scale factor.\n",
    "    r :: int : common ratio.\n",
    "    \"\"\"\n",
    "    res = 0\n",
    "    for i in range(n):\n",
    "        res += a * pow(r, i)\n",
    "\n",
    "    return res\n",
    "\n",
    "\n",
    "n, a, r = 4, 2, 3\n",
    "\n",
    "geometric_progression(n=n, a=a, r=r)"
   ]
  },
  {
   "cell_type": "code",
   "execution_count": 60,
   "id": "de1cfabc",
   "metadata": {},
   "outputs": [],
   "source": [
    "\"\"\"\n",
    "Implement a program for an ATM machine to calculate the number of different types of monetary notes needed to output when processing a withdraw-requested amount. Please refer to the below requirement. \n",
    "Input: \n",
    "•\tAvailable money notes \n",
    "•\tWithdraw-requested amount \n",
    "o\tIf request amount is not common multiple of smallest value money note, throw an exception with error message \n",
    "Output: \n",
    "•\tNumber of each kind of money notes need to output that satisfy the rule: \n",
    "o\tOutput maximum number of higher value money notes as much as possible first before using lower value money notes \n",
    "  \n",
    "Example 1: \n",
    "Input: \n",
    "•\tAvailable money notes: 100.000, 200.000 \n",
    "•\tWithdraw-requested amount: 3.000.000 \n",
    "Output: \n",
    "•\t15 money notes of 200K \n",
    "  \n",
    "Example 2: \n",
    "Input: \n",
    "•\tAvailable money notes: 50.000, 100.000, 200.000, 500.000 \n",
    "•\tWithdraw-requested amount: 3.350.000 \n",
    "Output: \n",
    "•\t6 money notes of 500K \n",
    "•\t1 money note of 200K \n",
    "•\t1 money note of 100K \n",
    "•\t1 money note of 50K \n",
    "\n",
    "\n",
    "# NOTE: \n",
    "- Greedy Algorithms. -> Dyn Programming?\n",
    "- Knapsack.\n",
    "For god sake, I forgot how to code this.\n",
    "\n",
    "- Assume the money notes are sorted ascenddingly from left to right.\n",
    "\n",
    "\"\"\"\n",
    "\n",
    "\n",
    "def _check_available_withdraw_request(\n",
    "    withdraw_request: int, min_money_note: int\n",
    ") -> bool:\n",
    "    val = withdraw_request / min_money_note\n",
    "    int_val = int(val)\n",
    "\n",
    "    if val - int_val != 0:\n",
    "        return False\n",
    "    return True\n",
    "\n",
    "\n",
    "def pseudo_atm_machine(withdraw_request: int, available_money_notes: list[int]) -> dict:\n",
    "    total = {}\n",
    "\n",
    "    if not _check_available_withdraw_request(\n",
    "        withdraw_request=withdraw_request, min_money_note=min(available_money_notes)\n",
    "    ):\n",
    "        raise RuntimeError(\"Invalid withdraw request\")\n",
    "\n",
    "    try:\n",
    "        current_note = available_money_notes.pop()\n",
    "\n",
    "        while withdraw_request > 0 and current_note:\n",
    "            if withdraw_request >= current_note:\n",
    "                withdraw_request -= current_note\n",
    "\n",
    "                if current_note not in total:\n",
    "                    total[current_note] = 1\n",
    "                else:\n",
    "                    total[current_note] += 1\n",
    "            else:\n",
    "                current_note = available_money_notes.pop()\n",
    "\n",
    "    except Exception as e:\n",
    "        print(e)\n",
    "    finally:\n",
    "        # return total, withdraw_request\n",
    "        return total"
   ]
  },
  {
   "cell_type": "code",
   "execution_count": null,
   "id": "98a3a6ad",
   "metadata": {},
   "outputs": [
    {
     "ename": "RuntimeError",
     "evalue": "Invalid withdraw request",
     "output_type": "error",
     "traceback": [
      "\u001b[0;31m---------------------------------------------------------------------------\u001b[0m",
      "\u001b[0;31mRuntimeError\u001b[0m                              Traceback (most recent call last)",
      "Cell \u001b[0;32mIn[64], line 18\u001b[0m\n\u001b[1;32m      1\u001b[0m \u001b[38;5;66;03m# pseudo_atm_machine(\u001b[39;00m\n\u001b[1;32m      2\u001b[0m \u001b[38;5;66;03m#     withdraw_request=3_350_000,\u001b[39;00m\n\u001b[1;32m      3\u001b[0m \u001b[38;5;66;03m#     available_money_notes=[50_000, 100_000, 200_000, 500_000]\u001b[39;00m\n\u001b[0;32m   (...)\u001b[0m\n\u001b[1;32m     13\u001b[0m \n\u001b[1;32m     14\u001b[0m \u001b[38;5;66;03m# # {500000: 6, 200000: 1, 100000: 1, 20000: 2} -> have redundant.\u001b[39;00m\n\u001b[0;32m---> 18\u001b[0m \u001b[43mpseudo_atm_machine\u001b[49m\u001b[43m(\u001b[49m\n\u001b[1;32m     19\u001b[0m \u001b[43m    \u001b[49m\u001b[43mwithdraw_request\u001b[49m\u001b[38;5;241;43m=\u001b[39;49m\u001b[38;5;241;43m3_000_000\u001b[39;49m\u001b[43m,\u001b[49m\n\u001b[1;32m     20\u001b[0m \u001b[43m    \u001b[49m\u001b[43mavailable_money_notes\u001b[49m\u001b[38;5;241;43m=\u001b[39;49m\u001b[43m[\u001b[49m\u001b[38;5;241;43m123_123\u001b[39;49m\u001b[43m,\u001b[49m\u001b[43m \u001b[49m\u001b[38;5;241;43m200_000\u001b[39;49m\u001b[43m]\u001b[49m\n\u001b[1;32m     21\u001b[0m \u001b[43m)\u001b[49m\n",
      "Cell \u001b[0;32mIn[60], line 58\u001b[0m, in \u001b[0;36mpseudo_atm_machine\u001b[0;34m(withdraw_request, available_money_notes)\u001b[0m\n\u001b[1;32m     54\u001b[0m total \u001b[38;5;241m=\u001b[39m {}\n\u001b[1;32m     56\u001b[0m \u001b[38;5;28;01mif\u001b[39;00m \u001b[38;5;129;01mnot\u001b[39;00m _check_available_withdraw_request(withdraw_request\u001b[38;5;241m=\u001b[39mwithdraw_request,\n\u001b[1;32m     57\u001b[0m                                      min_money_note\u001b[38;5;241m=\u001b[39m\u001b[38;5;28mmin\u001b[39m(available_money_notes)):\n\u001b[0;32m---> 58\u001b[0m     \u001b[38;5;28;01mraise\u001b[39;00m \u001b[38;5;167;01mRuntimeError\u001b[39;00m(\u001b[38;5;124m\"\u001b[39m\u001b[38;5;124mInvalid withdraw request\u001b[39m\u001b[38;5;124m\"\u001b[39m)\n\u001b[1;32m     60\u001b[0m \u001b[38;5;28;01mtry\u001b[39;00m:\n\u001b[1;32m     61\u001b[0m     current_note \u001b[38;5;241m=\u001b[39m available_money_notes\u001b[38;5;241m.\u001b[39mpop()\n",
      "\u001b[0;31mRuntimeError\u001b[0m: Invalid withdraw request"
     ]
    }
   ],
   "source": [
    "# pseudo_atm_machine(\n",
    "#     withdraw_request=3_350_000,\n",
    "#     available_money_notes=[50_000, 100_000, 200_000, 500_000]\n",
    "# )\n",
    "# {500000: 6, 200000: 1, 100000: 1, 50000: 1}\n",
    "\n",
    "\n",
    "# pseudo_atm_machine(\n",
    "#     withdraw_request=3_350_000,\n",
    "#     available_money_notes=[20_000, 100_000, 200_000, 500_000]\n",
    "# )\n",
    "\n",
    "# # {500000: 6, 200000: 1, 100000: 1, 20000: 2} -> have redundant.\n",
    "\n",
    "\n",
    "# pseudo_atm_machine(\n",
    "#     withdraw_request=3_000_000,\n",
    "#     available_money_notes=[123_123, 200_000]\n",
    "# )"
   ]
  },
  {
   "cell_type": "code",
   "execution_count": null,
   "id": "c2d4a3ef",
   "metadata": {},
   "outputs": [],
   "source": [
    "\"\"\"\n",
    "Implement a method to calculate the sum of numbers from N to M in Fibonacci sequence. Do try to optimize your code to attain better performance. \n",
    "  \n",
    "Definition of Fibonacci sequence: \n",
    "   Fn = Fn-1 + Fn-2 with seed values F0 = 0, F1 = 1 \n",
    "  \n",
    "Example of first 10 numbers of Fibonacci sequence: 0, 1, 1, 2, 3, 5, 8, 13, 21,  34, ... \n",
    "  \n",
    "An example input/output of the method: \n",
    "Input: N = 3, M = 5 \n",
    "Output: 2 + 3 + 5 = 10 \n",
    "\n",
    "\"\"\""
   ]
  },
  {
   "cell_type": "code",
   "execution_count": null,
   "id": "6501569b",
   "metadata": {},
   "outputs": [],
   "source": []
  },
  {
   "cell_type": "code",
   "execution_count": 76,
   "id": "e642d754",
   "metadata": {},
   "outputs": [],
   "source": [
    "\"\"\"\n",
    "Implement a method that will list out the words that have a maximum number of occurrence in a paragraph. \n",
    "  \n",
    "Assumption: Delimiter between two next words is a space. \n",
    "  \n",
    "An example of input/output \n",
    "Input: “I want to know how to achieve the things I want” \n",
    "Output: [to, I, want] \n",
    "\n",
    "\n",
    "# NOTE:\n",
    "\n",
    "assume there is unified deliminiter.\n",
    "\n",
    "\"\"\"\n",
    "\n",
    "\n",
    "def max_no_occurence(payload: str, delimiter: str = \" \"):\n",
    "    # Load\n",
    "    words = payload.split(delimiter)\n",
    "    bag_of_words = {}\n",
    "\n",
    "    # Transform\n",
    "    for word in words:\n",
    "        if word not in bag_of_words:\n",
    "            bag_of_words[word] = 1\n",
    "\n",
    "        else:\n",
    "            bag_of_words[word] += 1\n",
    "\n",
    "    # Extract\n",
    "    res = []\n",
    "    val_holder = 0\n",
    "    for key, value in bag_of_words.items():\n",
    "        if value >= val_holder:\n",
    "            val_holder = value\n",
    "            res.append(key)\n",
    "        else:\n",
    "            if key in res:\n",
    "                res.remove(key)\n",
    "    return res"
   ]
  },
  {
   "cell_type": "code",
   "execution_count": 77,
   "id": "bc540ca6",
   "metadata": {},
   "outputs": [
    {
     "data": {
      "text/plain": [
       "['I', 'want', 'to']"
      ]
     },
     "execution_count": 77,
     "metadata": {},
     "output_type": "execute_result"
    }
   ],
   "source": [
    "max_no_occurence(payload=\"I want to know how to achieve the things I want\")"
   ]
  },
  {
   "cell_type": "code",
   "execution_count": null,
   "id": "30c26148",
   "metadata": {},
   "outputs": [],
   "source": [
    "\"\"\"\n",
    "Given the BinaryTree class with below structure. \n",
    "\n",
    "Each Node will have a left Node, a right Node and a data. \n",
    "\n",
    "Please Implement this BinaryTree class with method getMaxDepth() to calculate the highest depth of the binary tree. \n",
    "\n",
    "Kindly press the submit button once you have completed the test.\n",
    "\n",
    "\"\"\""
   ]
  },
  {
   "cell_type": "code",
   "execution_count": null,
   "id": "46e3280b",
   "metadata": {},
   "outputs": [],
   "source": [
    "class Node:\n",
    "    def __init__(self, value):\n",
    "        self.value = value\n",
    "        self.right\n",
    "\n",
    "\n",
    "class BinaryTree:\n",
    "    def __init__(self, value: int):\n",
    "        self.root = Node(value)\n",
    "        self.right = None\n",
    "        self.left = None\n",
    "\n",
    "    def insert(self, value: int):\n",
    "        if value <= self.root.value:\n",
    "            self.root.left = Node"
   ]
  },
  {
   "cell_type": "code",
   "execution_count": null,
   "id": "856deae3",
   "metadata": {},
   "outputs": [],
   "source": []
  },
  {
   "cell_type": "code",
   "execution_count": null,
   "id": "041f3aa9",
   "metadata": {},
   "outputs": [],
   "source": []
  }
 ],
 "metadata": {
  "kernelspec": {
   "display_name": "the-notes",
   "language": "python",
   "name": "python3"
  },
  "language_info": {
   "codemirror_mode": {
    "name": "ipython",
    "version": 3
   },
   "file_extension": ".py",
   "mimetype": "text/x-python",
   "name": "python",
   "nbconvert_exporter": "python",
   "pygments_lexer": "ipython3",
   "version": "3.10.16"
  }
 },
 "nbformat": 4,
 "nbformat_minor": 5
}
